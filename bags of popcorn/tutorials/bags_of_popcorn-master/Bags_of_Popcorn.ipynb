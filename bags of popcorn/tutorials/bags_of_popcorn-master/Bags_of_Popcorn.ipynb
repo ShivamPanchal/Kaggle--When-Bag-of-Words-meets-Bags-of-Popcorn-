{
 "cells": [
  {
   "cell_type": "markdown",
   "metadata": {},
   "source": [
    "# Sentimental analysis \n",
    "The competition from Kaggel \"*Bag of Words Meets Bags of Popcorn*\""
   ]
  },
  {
   "cell_type": "code",
   "execution_count": 1,
   "metadata": {
    "collapsed": true
   },
   "outputs": [],
   "source": [
    "import pandas as pd\n",
    "\n",
    "from sklearn.linear_model import LogisticRegression\n",
    "from sklearn.feature_extraction.text import TfidfVectorizer\n",
    "\n",
    "from sklearn.grid_search import RandomizedSearchCV\n",
    "from sklearn.pipeline import Pipeline\n",
    "from sklearn import cross_validation\n",
    "\n",
    "from sklearn.externals import joblib"
   ]
  },
  {
   "cell_type": "code",
   "execution_count": 2,
   "metadata": {
    "collapsed": true
   },
   "outputs": [],
   "source": [
    "# you can download data from the page of competition https://www.kaggle.com/c/word2vec-nlp-tutorial/data\n",
    "\n",
    "imbd_train = pd.read_csv('labeledTrainData.tsv', delimiter='\\t')\n",
    "imbd_test = pd.read_csv('testData.tsv', delimiter='\\t')"
   ]
  },
  {
   "cell_type": "code",
   "execution_count": 3,
   "metadata": {
    "collapsed": false
   },
   "outputs": [
    {
     "name": "stdout",
     "output_type": "stream",
     "text": [
      "(25000, 3)\n",
      "(25000, 2)\n"
     ]
    }
   ],
   "source": [
    "# Number of the train and test datasets\n",
    "\n",
    "print(imbd_train.shape)\n",
    "print(imbd_test.shape)"
   ]
  },
  {
   "cell_type": "code",
   "execution_count": 6,
   "metadata": {
    "collapsed": false
   },
   "outputs": [
    {
     "name": "stdout",
     "output_type": "stream",
     "text": [
      "(12500, 3)\n"
     ]
    }
   ],
   "source": [
    "# The training dataset consists balanced number of the positive and negative reviews\n",
    "\n",
    "print(imbd_train[imbd_train.sentiment == 1].shape)"
   ]
  },
  {
   "cell_type": "markdown",
   "metadata": {},
   "source": [
    "# Create pipeline for finding the best parameters"
   ]
  },
  {
   "cell_type": "code",
   "execution_count": 7,
   "metadata": {
    "collapsed": true
   },
   "outputs": [],
   "source": [
    "pipeline = Pipeline([\n",
    "        ('tfidf', TfidfVectorizer(stop_words='english')),\n",
    "        ('lr', LogisticRegression(n_jobs=-1))\n",
    "    ])"
   ]
  },
  {
   "cell_type": "code",
   "execution_count": 10,
   "metadata": {
    "collapsed": false
   },
   "outputs": [],
   "source": [
    "parameters = {\n",
    "    'lr__C': (0.01, 0.1, 10),\n",
    "    'lr__penalty': ('l1', 'l2'),\n",
    "    'tfidf__min_df': (0, 1, 3, 5),\n",
    "    'tfidf__ngram_range': ((1, 1), (1, 2), (1, 3)),\n",
    "    'tfidf__max_features': (None, 2000, 8000, 12000)\n",
    "}"
   ]
  },
  {
   "cell_type": "code",
   "execution_count": 11,
   "metadata": {
    "collapsed": true
   },
   "outputs": [],
   "source": [
    "cv = cross_validation.StratifiedShuffleSplit(imbd_train.sentiment, test_size=0.2, random_state=42)"
   ]
  },
  {
   "cell_type": "code",
   "execution_count": 12,
   "metadata": {
    "collapsed": true
   },
   "outputs": [],
   "source": [
    "# Submissions are judged on area under the ROC curve. \n",
    "\n",
    "grid = RandomizedSearchCV(pipeline, parameters, scoring='roc_auc', cv=cv)"
   ]
  },
  {
   "cell_type": "code",
   "execution_count": null,
   "metadata": {
    "collapsed": true
   },
   "outputs": [],
   "source": [
    "grid.fit(imbd_train.review, imbd_train.sentiment)"
   ]
  },
  {
   "cell_type": "code",
   "execution_count": 14,
   "metadata": {
    "collapsed": false
   },
   "outputs": [
    {
     "data": {
      "text/plain": [
       "0.95387377600000012"
      ]
     },
     "execution_count": 14,
     "metadata": {},
     "output_type": "execute_result"
    }
   ],
   "source": [
    "grid.best_score_"
   ]
  },
  {
   "cell_type": "code",
   "execution_count": 15,
   "metadata": {
    "collapsed": false
   },
   "outputs": [
    {
     "data": {
      "text/plain": [
       "{'lr__C': 10,\n",
       " 'lr__penalty': 'l2',\n",
       " 'tfidf__max_features': 12000,\n",
       " 'tfidf__min_df': 0,\n",
       " 'tfidf__ngram_range': (1, 2)}"
      ]
     },
     "execution_count": 15,
     "metadata": {},
     "output_type": "execute_result"
    }
   ],
   "source": [
    "grid.best_params_"
   ]
  },
  {
   "cell_type": "markdown",
   "metadata": {},
   "source": [
    "# Create prediction"
   ]
  },
  {
   "cell_type": "code",
   "execution_count": 21,
   "metadata": {
    "collapsed": false
   },
   "outputs": [],
   "source": [
    "tfidf = TfidfVectorizer(ngram_range=(1, 2), stop_words='english', min_df=0)"
   ]
  },
  {
   "cell_type": "code",
   "execution_count": 22,
   "metadata": {
    "collapsed": true
   },
   "outputs": [],
   "source": [
    "# for fitting tfidf vectorizer will use reviews from both datasets\n",
    "vect = tfidf.fit(imbd_train.review + imbd_test.review)\n",
    "\n",
    "X_train = vect.transform(imbd_train.review)\n",
    "X_test = vect.transform(imbd_test.review)"
   ]
  },
  {
   "cell_type": "code",
   "execution_count": 23,
   "metadata": {
    "collapsed": false
   },
   "outputs": [
    {
     "data": {
      "text/plain": [
       "LogisticRegression(C=10, class_weight=None, dual=False, fit_intercept=True,\n",
       "          intercept_scaling=1, max_iter=100, multi_class='ovr', n_jobs=1,\n",
       "          penalty='l2', random_state=None, solver='liblinear', tol=0.0001,\n",
       "          verbose=0, warm_start=False)"
      ]
     },
     "execution_count": 23,
     "metadata": {},
     "output_type": "execute_result"
    }
   ],
   "source": [
    "clf = LogisticRegression(C=10, penalty='l2')\n",
    "clf.fit(X_train, imbd_train.sentiment)"
   ]
  },
  {
   "cell_type": "code",
   "execution_count": 24,
   "metadata": {
    "collapsed": true
   },
   "outputs": [],
   "source": [
    "prediction = clf.predict_proba(X_test)[:,1]"
   ]
  },
  {
   "cell_type": "code",
   "execution_count": 25,
   "metadata": {
    "collapsed": true
   },
   "outputs": [],
   "source": [
    "response = pd.DataFrame(data={'id': imbd_test.id, 'sentiment': prediction})\n",
    "response.to_csv('tfidf_lr.csv', index=False)"
   ]
  },
  {
   "cell_type": "markdown",
   "metadata": {},
   "source": [
    "The score for the _testing_ dataset is **0.95404**"
   ]
  },
  {
   "cell_type": "markdown",
   "metadata": {},
   "source": [
    "# Data analysis of the prediction model"
   ]
  },
  {
   "cell_type": "code",
   "execution_count": 26,
   "metadata": {
    "collapsed": true
   },
   "outputs": [],
   "source": [
    "def display_important_features(feature_names, target_names, weights, n_top=30):\n",
    "    sorted_features_indices = weights[0].argsort()[::-1]\n",
    "    \n",
    "    print('The most important \"features\" (words) for the first class: \\n')\n",
    "    most_important = sorted_features_indices[:n_top]\n",
    "    print(\",\\n\".join(\"{0}: {1:.4f}\".format(feature_names[j], weights[0, j]) for j in most_important))\n",
    "\n",
    "    print('\\nThe most unimportant \"features\" (words) for the first class: \\n')\n",
    "    least_important = sorted_features_indices[-n_top:]\n",
    "    print(\",\\n\".join(\"{0}: {1:.4f}\".format(feature_names[j], weights[0, j]) for j in least_important))"
   ]
  },
  {
   "cell_type": "code",
   "execution_count": 28,
   "metadata": {
    "collapsed": false
   },
   "outputs": [
    {
     "name": "stdout",
     "output_type": "stream",
     "text": [
      "The most important \"features\" (words) for the first class: \n",
      "\n",
      "great: 17.1706,\n",
      "excellent: 14.1051,\n",
      "best: 12.3115,\n",
      "wonderful: 11.1220,\n",
      "perfect: 10.7192,\n",
      "amazing: 9.7274,\n",
      "love: 9.6657,\n",
      "favorite: 9.5664,\n",
      "fun: 9.1872,\n",
      "loved: 8.8379,\n",
      "today: 8.5322,\n",
      "enjoyed: 8.1083,\n",
      "brilliant: 8.0669,\n",
      "beautiful: 7.7421,\n",
      "superb: 7.7398,\n",
      "highly: 7.1639,\n",
      "enjoy: 6.9930,\n",
      "definitely: 6.9677,\n",
      "fantastic: 6.8260,\n",
      "enjoyable: 6.5264,\n",
      "10 10: 6.5148,\n",
      "job: 6.4521,\n",
      "bit: 6.3647,\n",
      "liked: 6.3429,\n",
      "life: 6.2765,\n",
      "especially: 6.2463,\n",
      "entertaining: 6.1633,\n",
      "heart: 6.0502,\n",
      "funniest: 6.0379,\n",
      "rare: 5.9032\n",
      "\n",
      "The most unimportant \"features\" (words) for the first class: \n",
      "\n",
      "badly: -7.2644,\n",
      "pointless: -7.3440,\n",
      "avoid: -7.6105,\n",
      "disappointing: -7.6699,\n",
      "just: -7.6744,\n",
      "save: -7.6953,\n",
      "lame: -7.8409,\n",
      "mess: -7.8716,\n",
      "waste time: -7.9765,\n",
      "fails: -8.0054,\n",
      "ridiculous: -8.2217,\n",
      "minutes: -8.3099,\n",
      "disappointment: -8.3445,\n",
      "annoying: -8.4698,\n",
      "instead: -8.5852,\n",
      "stupid: -8.6196,\n",
      "supposed: -8.7243,\n",
      "unfortunately: -8.9381,\n",
      "script: -9.1088,\n",
      "dull: -9.3347,\n",
      "poorly: -9.3483,\n",
      "horrible: -9.7118,\n",
      "terrible: -10.4718,\n",
      "worse: -11.1009,\n",
      "poor: -12.1545,\n",
      "waste: -13.0283,\n",
      "boring: -13.0838,\n",
      "awful: -14.3211,\n",
      "bad: -17.2290,\n",
      "worst: -19.8708\n"
     ]
    }
   ],
   "source": [
    "display_important_features(tfidf.get_feature_names(), imbd_train.sentiment.unique(), clf.coef_)"
   ]
  },
  {
   "cell_type": "code",
   "execution_count": null,
   "metadata": {
    "collapsed": true
   },
   "outputs": [],
   "source": []
  }
 ],
 "metadata": {
  "kernelspec": {
   "display_name": "Python 3",
   "language": "python",
   "name": "python3"
  },
  "language_info": {
   "codemirror_mode": {
    "name": "ipython",
    "version": 3
   },
   "file_extension": ".py",
   "mimetype": "text/x-python",
   "name": "python",
   "nbconvert_exporter": "python",
   "pygments_lexer": "ipython3",
   "version": "3.5.1"
  }
 },
 "nbformat": 4,
 "nbformat_minor": 0
}
