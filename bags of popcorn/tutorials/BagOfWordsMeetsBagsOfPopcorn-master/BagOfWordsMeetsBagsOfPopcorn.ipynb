{
 "cells": [
  {
   "cell_type": "markdown",
   "metadata": {},
   "source": [
    "# Kaggle Sentiment analysis -- Bag of Words Meets Bags of Popcorn\n",
    "## Background\n",
    "情感分析是机器学习中一个具有挑战性的课题。人们在表达语言时，具有很多技巧性，同一语句在不同语境下往往具有不同语意，而这些可能会导致人或者电脑的误解，本题给出了IMDB电影评论中部分有标注的训练数据，目的是预测测试集中评论积极或者消极。\n",
    "## Data Set\n",
    "The labeled data set consists of 50,000 IMDB movie reviews, specially selected for sentiment analysis. The sentiment of reviews is binary, meaning the IMDB rating < 5 results in a sentiment score of 0, and rating >=7 have a sentiment score of 1. No individual movie has more than 30 reviews. The 25,000 review labeled training set does not include any of the same movies as the 25,000 review test set. In addition, there are another 50,000 IMDB reviews provided without any rating labels.\n",
    "## Data fields\n",
    "* id - Unique ID of each review\n",
    "* sentiment - Sentiment of the review; 1 for positive reviews and 0 for negative reviews\n",
    "* review - Text of the review"
   ]
  },
  {
   "cell_type": "code",
   "execution_count": 1,
   "metadata": {
    "collapsed": false
   },
   "outputs": [],
   "source": [
    "import os\n",
    "import pandas as pd\n",
    "import numpy as np\n",
    "from sklearn.feature_extraction.text import CountVectorizer\n",
    "from sklearn.ensemble import RandomForestClassifier\n",
    "from sklearn import svm\n",
    "from sklearn.feature_extraction.text import TfidfVectorizer\n",
    "from sklearn.feature_selection import SelectKBest,chi2"
   ]
  },
  {
   "cell_type": "markdown",
   "metadata": {},
   "source": [
    "## read data"
   ]
  },
  {
   "cell_type": "code",
   "execution_count": 5,
   "metadata": {
    "collapsed": false
   },
   "outputs": [
    {
     "name": "stdout",
     "output_type": "stream",
     "text": [
      "The first review is:\n",
      "\"With all this stuff going down at the moment with MJ i've started listening to his music, watching the odd documentary here and there, watched The Wiz and watched Moonwalker again. Maybe i just want to get a certain insight into this guy who i thought was really cool in the eighties just to maybe make up my mind whether he is guilty or innocent. Moonwalker is part biography, part feature film which i remember going to see at the cinema when it was originally released. Some of it has subtle messages about MJ's feeling towards the press and also the obvious message of drugs are bad m'kay.<br /><br />Visually impressive but of course this is all about Michael Jackson so unless you remotely like MJ in anyway then you are going to hate this and find it boring. Some may call MJ an egotist for consenting to the making of this movie BUT MJ and most of his fans would say that he made it for the fans which if true is really nice of him.<br /><br />The actual feature film bit when it finally starts is only on for 20 minutes or so excluding the Smooth Criminal sequence and Joe Pesci is convincing as a psychopathic all powerful drug lord. Why he wants MJ dead so bad is beyond me. Because MJ overheard his plans? Nah, Joe Pesci's character ranted that he wanted people to know it is he who is supplying drugs etc so i dunno, maybe he just hates MJ's music.<br /><br />Lots of cool things in this like MJ turning into a car and a robot and the whole Speed Demon sequence. Also, the director must have had the patience of a saint when it came to filming the kiddy Bad sequence as usually directors hate working with one kid let alone a whole bunch of them performing a complex dance scene.<br /><br />Bottom line, this movie is for people who like MJ on one level or another (which i think is most people). If not, then stay away. It does try and give off a wholesome message and ironically MJ's bestest buddy in this movie is a girl! Michael Jackson is truly one of the most talented people ever to grace this planet but is he guilty? Well, with all the attention i've gave this subject....hmmm well i don't know because people can be different behind closed doors, i know this for a fact. He is either an extremely nice but stupid guy or one of the most sickest liars. I hope he is not the latter.\"\n"
     ]
    }
   ],
   "source": [
    "train = pd.read_csv('data/labeledTrainData.tsv',header=0,delimiter=\"\\t\", quoting=3)\n",
    "test = pd.read_csv('data/testData.tsv',header=0,delimiter=\"\\t\", quoting=3)\n",
    "print 'The first review is:'\n",
    "print train[\"review\"][0]"
   ]
  },
  {
   "cell_type": "code",
   "execution_count": null,
   "metadata": {
    "collapsed": true
   },
   "outputs": [],
   "source": [
    "import re\n",
    "import nltk\n",
    "from bs4 import BeautifulSoup\n",
    "from nltk.corpus import stopwords\n",
    "\n",
    "class KaggleWord2VecUtility(object):\n",
    "    \"\"\"processing raw HTML text into list for learning\"\"\"\n",
    "    @staticmethod\n",
    "    def review_to_wordlist( review, remove_stopwords=False ):\n",
    "        # convert a document to a sequence of words,\n",
    "        # optionally removing stop words.  return a list of words.        \n",
    "        review_text = BeautifulSoup(review).get_text() # remove HTML\n",
    "        review_text = re.sub(\"[^a-zA-Z]\",\" \", review_text)  # remove non-letters\n",
    "        words = review_text.lower().split() # lower case and split\n",
    "        if remove_stopwords:\n",
    "            stops = set(stopwords.words(\"english\"))   # optional remove stop words(false by default)\n",
    "            words = [w for w in words if not w in stops]      \n",
    "        return(words) # return list of words\n",
    "\n",
    "    # split review into parsed sentences\n",
    "    @staticmethod\n",
    "    def review_to_sentences( review, tokenizer, remove_stopwords=False ):\n",
    "        raw_sentences = tokenizer.tokenize(review.decode('utf8').strip()) #split the paragraph into sentences\n",
    "        sentences = []\n",
    "        for raw_sentence in raw_sentences:\n",
    "            if len(raw_sentence) > 0:\n",
    "                sentences.append( KaggleWord2VecUtility.review_to_wordlist( raw_sentence, remove_stopwords ))\n",
    "        return sentences  # returns a list of lists"
   ]
  },
  {
   "cell_type": "markdown",
   "metadata": {},
   "source": [
    "## Baseline by BOW & RandomForest"
   ]
  },
  {
   "cell_type": "code",
   "execution_count": null,
   "metadata": {
    "collapsed": true
   },
   "outputs": [],
   "source": [
    "# download text data sets, including stop words\n",
    "print 'Download text data sets. If you already have NLTK datasets downloaded, just close the window'\n",
    "#nltk.download()  \n",
    "clean_train_reviews = [] # init list\n",
    "\n",
    "# clean train data\n",
    "for i in xrange( 0, len(train[\"review\"])):\n",
    "    clean_train_reviews.append(\" \".join(KaggleWord2VecUtility.review_to_wordlist(train[\"review\"][i], True)))\n",
    "    \n",
    "# ****** create bow from the training set\n",
    "vectorizer = CountVectorizer(analyzer = \"word\",   \\\n",
    "                             tokenizer = None,    \\\n",
    "                             preprocessor = None, \\\n",
    "                             stop_words = None,   \\\n",
    "                             max_features = 5000)\n",
    "train_data_features = vectorizer.fit_transform(clean_train_reviews)\n",
    "# convert the result to array\n",
    "train_data_features = train_data_features.toarray()\n",
    "\n",
    "# ===========train random forest using bow===========\n",
    "# init a randomforest classifier with 100 trees\n",
    "forest = RandomForestClassifier(n_estimators = 100)\n",
    "forest = forest.fit( train_data_features, train[\"sentiment\"] )\n",
    "\n",
    "clean_test_reviews = [] # init list\n",
    "# clean test set\n",
    "for i in xrange(0,len(test[\"review\"])):\n",
    "    clean_test_reviews.append(\" \".join(KaggleWord2VecUtility.review_to_wordlist(test[\"review\"][i], True)))\n",
    "# get bow for test set, convert to a numpy array\n",
    "test_data_features = vectorizer.transform(clean_test_reviews)\n",
    "test_data_features = test_data_features.toarray()\n",
    "# use random forest to make predictions\n",
    "result = forest.predict(test_data_features)\n",
    "# copy result to submit style\n",
    "output = pd.DataFrame( data={\"id\":test[\"id\"], \"sentiment\":result} )\n",
    "# output the submit file\n",
    "output.to_csv(os.path.join(os.path.dirname(__file__), 'data', 'bow.csv'), index=False, quoting=3)\n",
    "print \"Wrote results to bow.csv\""
   ]
  },
  {
   "cell_type": "markdown",
   "metadata": {},
   "source": [
    "## Improved by TfidfVectorizer & SVM"
   ]
  },
  {
   "cell_type": "code",
   "execution_count": null,
   "metadata": {
    "collapsed": true
   },
   "outputs": [],
   "source": [
    "# init\n",
    "clean_train_reviews = []\n",
    "\n",
    "# clean train set \n",
    "for i in xrange( 0, len(train[\"review\"])):\n",
    "    clean_train_reviews.append(\" \".join(KaggleWord2VecUtility.review_to_wordlist(train[\"review\"][i])))\n",
    "    \n",
    "# create tfidf\n",
    "train_vectorizer = TfidfVectorizer(stop_words='english',ngram_range=(1,3), sublinear_tf=True, min_df=2)\n",
    "train_tfidf_arr = train_vectorizer.fit_transform(clean_train_reviews)\n",
    "\n",
    "# select k's feature\n",
    "ch2 = SelectKBest(chi2, k=200000)\n",
    "train_feature = ch2.fit_transform(train_tfidf_arr, train['sentiment'])\n",
    "    \n",
    "# ============train svm using tfidf==================\n",
    "# init svc classifier with c & linear kernel\n",
    "clf_linear  = svm.SVC(C=1.0, kernel='linear').fit(train_feature, train[\"sentiment\"]) \n",
    "\n",
    "# clean test set    \n",
    "for i in xrange(0,len(test[\"review\"])):\n",
    "    clean_test_reviews.append(\" \".join(KaggleWord2VecUtility.review_to_wordlist(test[\"review\"][i], True)))\n",
    "    \n",
    "test_vectorizer = TfidfVectorizer(stop_words='english',ngram_range=(1,3), sublinear_tf=True, min_df=2)\n",
    "test_tfidf_arr = test_vectorizer.fit_transform(clean_test_reviews)\n",
    "\n",
    "test_feature = ch2.transform(test_tfidf_arr)\n",
    "\n",
    "# use svm forest to make predictions\n",
    "result = clf_linear.predict(test_feature)\n",
    "# copy result to submit style\n",
    "output = pd.DataFrame( data={\"id\":test[\"id\"], \"sentiment\":result} )\n",
    "# output the submit file\n",
    "output.to_csv(os.path.join(os.path.dirname(__file__), 'data', 'svm.csv'), index=False, quoting=3)\n",
    "print \"Wrote results to svm.csv\" "
   ]
  },
  {
   "cell_type": "markdown",
   "metadata": {},
   "source": [
    "## Use Word2vec "
   ]
  },
  {
   "cell_type": "code",
   "execution_count": null,
   "metadata": {
    "collapsed": true
   },
   "outputs": [],
   "source": [
    "from nltk.corpus import stopwords\n",
    "import nltk.data\n",
    "from gensim.models import Word2Vec\n",
    "\n",
    "def makeFeatureVec(words, model, num_features):\n",
    "    # average all of the word vectors \n",
    "    featureVec = np.zeros((num_features,),dtype=\"float32\") #init 4 speed\n",
    "    nwords = 0.\n",
    "    index2word_set = set(model.index2word) #set 4 speed\n",
    "    for word in words:\n",
    "        if word in index2word_set:\n",
    "            nwords = nwords + 1.\n",
    "            featureVec = np.add(featureVec,model[word])\n",
    "    featureVec = np.divide(featureVec,nwords)\n",
    "    return featureVec\n",
    "\n",
    "def getAvgFeatureVecs(reviews, model, num_features):\n",
    "    # calculate average feature vector for each one\n",
    "    # return a 2D numpy array\n",
    "    counter = 0.\n",
    "    reviewFeatureVecs = np.zeros((len(reviews),num_features),dtype=\"float32\") #init 4 speed\n",
    "    for review in reviews:\n",
    "        # print status message every 1000 review\n",
    "        if counter%1000. == 0.:\n",
    "            print \"Review %d of %d\" % (counter, len(reviews))\n",
    "        reviewFeatureVecs[counter] = makeFeatureVec(review, model, num_features)\n",
    "        counter = counter + 1.\n",
    "    return reviewFeatureVecs\n",
    "\n",
    "def getCleanReviews(reviews):\n",
    "    clean_reviews = []\n",
    "    for review in reviews[\"review\"]:\n",
    "        clean_reviews.append( KaggleWord2VecUtility.review_to_wordlist( review, remove_stopwords=True ))\n",
    "    return clean_reviews\n",
    "\n",
    "if __name__ == '__main__':\n",
    "    # read data \n",
    "    train = pd.read_csv('data/labeledTrainData.tsv',header=0,delimiter=\"\\t\", quoting=3)\n",
    "    test = pd.read_csv('data/testData.tsv',header=0,delimiter=\"\\t\", quoting=3)\n",
    "    unlabeled_train = pd.read_csv( 'data/unlabeledTrainData.tsv', \"unlabeledTrainData.tsv\"), \\\n",
    "    header=0,  delimiter=\"\\t\", quoting=3 )\n",
    "\n",
    "    # confirm read number (100000)\n",
    "    print \"Read %d labeled train reviews, %d labeled test reviews, \" \\\n",
    "     \"and %d unlabeled reviews\\n\" % (train[\"review\"].size,\n",
    "     test[\"review\"].size, unlabeled_train[\"review\"].size )\n",
    "\n",
    "    # Load the punkt tokenizer\n",
    "    tokenizer = nltk.data.load('tokenizers/punkt/english.pickle')\n",
    "\n",
    "    sentences = []  # init\n",
    "    # clean lable train data\n",
    "    for review in train[\"review\"]:\n",
    "        sentences += KaggleWord2VecUtility.review_to_sentences(review, tokenizer)\n",
    "    \n",
    "    # clean unlabeled train data\n",
    "    for review in unlabeled_train[\"review\"]:\n",
    "        sentences += KaggleWord2VecUtility.review_to_sentences(review, tokenizer)\n",
    "\n",
    "    # ======== set parameters and train word2vec ===========\n",
    "    # Set parameters\n",
    "    num_features = 300    # word vector dimension\n",
    "    min_word_count = 40   # Min word count\n",
    "    num_workers = 4       # number of threads\n",
    "    context = 10          # context window size\n",
    "    downsampling = 1e-3   # downsample setting for frequent words\n",
    "\n",
    "    # Init\n",
    "    model = Word2Vec(sentences, workers=num_workers, \\\n",
    "                size=num_features, min_count = min_word_count, \\\n",
    "                window = context, sample = downsampling, seed=1)\n",
    "\n",
    "    # save the model \n",
    "    model_name = \"300features_40minwords_10context\"\n",
    "    model.save(model_name)\n",
    "    \n",
    "    #========== test ==============\n",
    "    model.doesnt_match(\"man woman child kitchen\".split())\n",
    "    model.doesnt_match(\"france england germany berlin\".split())\n",
    "    model.most_similar(\"man\")\n",
    "    model.most_similar(\"queen\")\n",
    "\n",
    "    # ======== create average vectors for the train & test set===========\n",
    "    trainDataVecs = getAvgFeatureVecs( getCleanReviews(train), model, num_features )\n",
    "    testDataVecs = getAvgFeatureVecs( getCleanReviews(test), model, num_features )\n",
    "\n",
    "    # ======== use random forest to predict ============\n",
    "    forest = RandomForestClassifier( n_estimators = 100 )\n",
    "    forest = forest.fit( trainDataVecs, train[\"sentiment\"] )\n",
    "    result = forest.predict( testDataVecs )\n",
    "\n",
    "    # output results\n",
    "    output = pd.DataFrame( data={\"id\":test[\"id\"], \"sentiment\":result} )\n",
    "    output.to_csv( \"Word2Vec_Ave.csv\", index=False, quoting=3 )\n",
    "    print \"Wrote Word2Vec_Ave.csv\""
   ]
  }
 ],
 "metadata": {
  "kernelspec": {
   "display_name": "Python 2",
   "language": "python",
   "name": "python2"
  },
  "language_info": {
   "codemirror_mode": {
    "name": "ipython",
    "version": 2
   },
   "file_extension": ".py",
   "mimetype": "text/x-python",
   "name": "python",
   "nbconvert_exporter": "python",
   "pygments_lexer": "ipython2",
   "version": "2.7.10"
  }
 },
 "nbformat": 4,
 "nbformat_minor": 0
}
