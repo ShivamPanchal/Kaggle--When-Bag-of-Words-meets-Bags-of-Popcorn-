{
 "cells": [
  {
   "cell_type": "code",
   "execution_count": 1,
   "metadata": {
    "collapsed": false
   },
   "outputs": [
    {
     "name": "stderr",
     "output_type": "stream",
     "text": [
      "[INFO] This non-commercial license of GraphLab Create is assigned to marvin.bertin@gmail.comand will expire on September 15, 2016. For commercial licensing options, visit https://dato.com/buy/.\n",
      "\n",
      "[INFO] Start server at: ipc:///tmp/graphlab_server-900 - Server binary: /Users/marvinbertin/.graphlab/anaconda/lib/python2.7/site-packages/graphlab/unity_server - Server log: /tmp/graphlab_server_1444149317.log\n",
      "[INFO] GraphLab Server Version: 1.6.1\n"
     ]
    }
   ],
   "source": [
    "from numpy import average\n",
    "import os\n",
    "import graphlab as gl\n",
    "import numpy as np\n",
    "import gensim\n",
    "import re\n",
    "import nltk\n",
    "from nltk.corpus import stopwords\n",
    "from bs4 import BeautifulSoup\n",
    "\n",
    "gl.canvas.set_target('ipynb')"
   ]
  },
  {
   "cell_type": "code",
   "execution_count": 2,
   "metadata": {
    "collapsed": true
   },
   "outputs": [],
   "source": [
    "traindata_path = \"/Users/marvinbertin/graphlab_data/Bags-of-Popcorn/LabeledData/labeledTrainData.tsv\""
   ]
  },
  {
   "cell_type": "code",
   "execution_count": 3,
   "metadata": {
    "collapsed": false,
    "scrolled": false
   },
   "outputs": [
    {
     "name": "stdout",
     "output_type": "stream",
     "text": [
      "PROGRESS: Finished parsing file /Users/marvinbertin/graphlab_data/Bags-of-Popcorn/LabeledData/labeledTrainData.tsv\n",
      "PROGRESS: Parsing completed. Parsed 100 lines in 0.484371 secs.\n",
      "PROGRESS: Finished parsing file /Users/marvinbertin/graphlab_data/Bags-of-Popcorn/LabeledData/labeledTrainData.tsv\n",
      "PROGRESS: Parsing completed. Parsed 25000 lines in 0.854796 secs.\n"
     ]
    }
   ],
   "source": [
    "train_data = gl.SFrame.read_csv(traindata_path,header=True, delimiter='\\t',quote_char='\"',\n",
    "                                column_type_hints = {'id':str, 'sentiment' : int, 'review':str } )"
   ]
  },
  {
   "cell_type": "code",
   "execution_count": 6,
   "metadata": {
    "collapsed": false,
    "scrolled": true
   },
   "outputs": [
    {
     "name": "stdout",
     "output_type": "stream",
     "text": [
      "PROGRESS: Finished parsing file /Users/marvinbertin/graphlab_data/Bags-of-Popcorn/UnlabeledData/unlabeledTrainData.tsv\n",
      "PROGRESS: Parsing completed. Parsed 100 lines in 0.716355 secs.\n",
      "PROGRESS: Read 38895 lines. Lines per second: 28436.5\n",
      "PROGRESS: Finished parsing file /Users/marvinbertin/graphlab_data/Bags-of-Popcorn/UnlabeledData/unlabeledTrainData.tsv\n",
      "PROGRESS: Parsing completed. Parsed 50000 lines in 1.56339 secs.\n"
     ]
    }
   ],
   "source": [
    "unlabeledtraindata_path = \"/Users/marvinbertin/graphlab_data/Bags-of-Popcorn/UnlabeledData/unlabeledTrainData.tsv\"\n",
    "unlabeled_train_data = gl.SFrame.read_csv(unlabeledtraindata_path,header=True, delimiter='\\t',quote_char='\"',\n",
    "                                column_type_hints = {'id':str, 'review':str } )"
   ]
  },
  {
   "cell_type": "code",
   "execution_count": 7,
   "metadata": {
    "collapsed": false
   },
   "outputs": [
    {
     "data": {
      "application/javascript": [
       "$(\"head\").append($(\"<link/>\").attr({\n",
       "  rel:  \"stylesheet\",\n",
       "  type: \"text/css\",\n",
       "  href: \"//cdnjs.cloudflare.com/ajax/libs/font-awesome/4.1.0/css/font-awesome.min.css\"\n",
       "}));\n",
       "$(\"head\").append($(\"<link/>\").attr({\n",
       "  rel:  \"stylesheet\",\n",
       "  type: \"text/css\",\n",
       "  href: \"//dato.com/files/canvas/1.6.1/css/canvas.css\"\n",
       "}));\n",
       "\n",
       "            (function(){\n",
       "\n",
       "                var e = null;\n",
       "                if (typeof element == 'undefined') {\n",
       "                    var scripts = document.getElementsByTagName('script');\n",
       "                    var thisScriptTag = scripts[scripts.length-1];\n",
       "                    var parentDiv = thisScriptTag.parentNode;\n",
       "                    e = document.createElement('div');\n",
       "                    parentDiv.appendChild(e);\n",
       "                } else {\n",
       "                    e = element[0];\n",
       "                }\n",
       "\n",
       "                if (typeof requirejs !== 'undefined') {\n",
       "                    // disable load timeout; ipython_app.js is large and can take a while to load.\n",
       "                    requirejs.config({waitSeconds: 0});\n",
       "                }\n",
       "\n",
       "                require(['//dato.com/files/canvas/1.6.1/js/ipython_app.js'], function(IPythonApp){\n",
       "                    var app = new IPythonApp();\n",
       "                    app.attachView('sframe','Summary', {\"ipython\": true, \"sketch\": {\"review\": {\"complete\": true, \"numeric\": false, \"num_unique\": 49549, \"num_undefined\": 0, \"progress\": 1.0, \"frequent_items\": {\"When I was only six, my mother and father sent my older brother to<br /><br />take me to watch the Olson and Johnson routine at a New York<br /><br />City nightclub called THE CARNIVAL. I had been aware of the<br /><br />antics of the Three Stooges, Laurel and Hardy and Abbott and<br /><br />Costello, but now I could see first hand the live slapstick of<br /><br />involved comedy.<br /><br />The film \\\"Crazy House\\\" is a perfect example of keeping the wild art<br /><br />of updated slapstick alive on film. It is an update of the pie<br /><br />throwing of early silents and the progression from Charlie Chaplin<br /><br />to Charlie Chase. This film even has small roles for all the lesser<br /><br />known comics of that era. Their roles in this movie are much the<br /><br />same as the bit inserts into \\\"It's a Mad, Mad, Mad, Mad World\\\".<br /><br />For those a little bit younger than myself, this film would be called<br /><br />the progenitor of \\\"Rowan & Martin's Laugh In\\\", a TV series that ran<br /><br />from 1968-1973.<br /><br />All I can say is, \\\"If you want to see the visualization of one liners as<br /><br />presented in the 1940's try and get to see this film\\\". In the short<br /><br />while, watch \\\"Laugh In\\\" reruns and prep yourself for a look back<br /><br />into comedy history.<br /><br />\": {\"frequency\": 4, \"value\": \"When I was only ...\"}, \"Am not from America, I usually watch this show on AXN channel, I don't know why this respected channel air such sucking program in prime time slot. Creation of Hollywood's Money Bank Jerry Bruckheimer, this time he is spending a big load of cash in the small screen. In each episode a bunch of peoples having two team members travels from on country to another for a great sum of money; where the camera crews shoot their travels. I don't know who the hell gave this stupid idea for the show. It has nothing to watch for, in all episodes we see people ran like beggars, some times shouting, crying, beeping, jerky camera works..huh it's harmful to both eyes and ears. The most disgusting part in the race is the viewers finally knows each of the team members can't enjoy their race/traveling experience. Even though, to add up the ratings the producers came up with the ideas of including Gays in one shows, sucking American reality show.<br /><br />It's nothing to watch for, better switch to another channels.<br /><br />The Amazing Race = The Disgusting Show.\": {\"frequency\": 5, \"value\": \"Am not from ...\"}}, \"size\": 50000}, \"id\": {\"complete\": true, \"numeric\": false, \"num_unique\": 49970, \"num_undefined\": 0, \"progress\": 1.0, \"frequent_items\": {}, \"size\": 50000}}, \"selected_variable\": {\"name\": [\"unlabeled_train_data\"], \"descriptives\": {\"rows\": 50000, \"columns\": 2}, \"view_component\": \"Summary\", \"view_file\": \"sframe\", \"view_params\": {\"y\": null, \"x\": null, \"columns\": [\"id\", \"review\"], \"view\": null}, \"view_components\": [\"Summary\", \"Table\", \"Bar Chart\", \"BoxWhisker Plot\", \"Line Chart\", \"Scatter Plot\", \"Heat Map\", \"Plots\"], \"type\": \"SFrame\", \"columns\": [{\"dtype\": \"str\", \"name\": \"id\"}, {\"dtype\": \"str\", \"name\": \"review\"}], \"column_identifiers\": [\"review\", \"id\"]}, \"columns\": [{\"dtype\": \"str\", \"name\": \"id\"}, {\"dtype\": \"str\", \"name\": \"review\"}]}, e);\n",
       "                });\n",
       "            })();\n",
       "        "
      ]
     },
     "metadata": {},
     "output_type": "display_data"
    }
   ],
   "source": [
    "unlabeled_train_data.show()"
   ]
  },
  {
   "cell_type": "code",
   "execution_count": 8,
   "metadata": {
    "collapsed": false,
    "scrolled": false
   },
   "outputs": [
    {
     "data": {
      "application/javascript": [
       "$(\"head\").append($(\"<link/>\").attr({\n",
       "  rel:  \"stylesheet\",\n",
       "  type: \"text/css\",\n",
       "  href: \"//cdnjs.cloudflare.com/ajax/libs/font-awesome/4.1.0/css/font-awesome.min.css\"\n",
       "}));\n",
       "$(\"head\").append($(\"<link/>\").attr({\n",
       "  rel:  \"stylesheet\",\n",
       "  type: \"text/css\",\n",
       "  href: \"//dato.com/files/canvas/1.6.1/css/canvas.css\"\n",
       "}));\n",
       "\n",
       "            (function(){\n",
       "\n",
       "                var e = null;\n",
       "                if (typeof element == 'undefined') {\n",
       "                    var scripts = document.getElementsByTagName('script');\n",
       "                    var thisScriptTag = scripts[scripts.length-1];\n",
       "                    var parentDiv = thisScriptTag.parentNode;\n",
       "                    e = document.createElement('div');\n",
       "                    parentDiv.appendChild(e);\n",
       "                } else {\n",
       "                    e = element[0];\n",
       "                }\n",
       "\n",
       "                if (typeof requirejs !== 'undefined') {\n",
       "                    // disable load timeout; ipython_app.js is large and can take a while to load.\n",
       "                    requirejs.config({waitSeconds: 0});\n",
       "                }\n",
       "\n",
       "                require(['//dato.com/files/canvas/1.6.1/js/ipython_app.js'], function(IPythonApp){\n",
       "                    var app = new IPythonApp();\n",
       "                    app.attachView('sframe','Summary', {\"ipython\": true, \"sketch\": {\"review\": {\"complete\": true, \"numeric\": false, \"num_unique\": 24932, \"num_undefined\": 0, \"progress\": 1.0, \"frequent_items\": {\"You know all those letters to \\\"Father Christmas\\\" and \\\"Jesus\\\" that are sent every year? Well, it turns out that they are not actually delivered but dropped off in a half-forgotten corner of the post office to rot unless some bright spark figures out a way of posting them. As bizarre settings go, it's a winner and one which perfectly fits the strange movie that is \\\"Dead Letter Office\\\". Having said that, this is obviously an Australian film as opposed to a British one. If it was Royal Mail, most letters get this sort of treatment anyway. I haven't been in this flat for two years and we're still getting letters for a Mr Wang, some female priest of the Church of Latter Day I've-Never-Heard-Of-You and various catalogues for industrial equipment addressed to a plumbing company.<br /><br />\\\"Dead Letter Office\\\" (the name given to the place where undeliverable mail ends up) follows the story of Alice (Miranda Otto) who grows up in a seriously divided home. Writing to her absent father, she only learns in adulthood that her letters haven't been delivered for one reason or another. So, logically, she gets a job at the D.L.O. and finds herself working alongside other social rejects including the brooding Chilean immigrant Frank Lopez (George Del Hoyo). Slowly, she finds herself drawn to him but can she find out where her dad is without bringing the self-contained world of the Dead Letters Office to its knees?<br /><br />Nothing against this film but I was reminded of the god-awful Heather Graham film \\\"Committed\\\" while watching this. However, this is so much better than that pile of horse crap but then again, that ain't difficult. For a start, this film is much more logical. True, the metaphors are somewhat blatant and the underflowing symbolism quickly becomes a flood. But at least this is cohesive and quirky without being complete drivel. It is also well acted. Both Otto and Del Hoyo are very good as the lovers looking for something they know they'll never find while other characters are peripheral at best. Part of the trouble is that it seems to wrap up far too quickly, leaving this viewer somewhat disappointed. The other part is that when you consider Australia's draconian immigration policy (i.e. if you don't speak English, rack off!), such a story is unlikely to take place in reality. The other characters, sadly, also help to destabilise the realism by proving to be little more than odd-ball stereotypes.<br /><br />Despite that, \\\"Dead Letter Office\\\" is certainly something a little different. It might not be to everyone's taste but I liked it. Yes, it was hackneyed and predictable but sometimes, it's nice to watch a film without guns or violence or heavy-duty swearing and nudity (no chance of that in an Australian film). There ain't any major laughs, there's no Bullet Time and the characters are usually one-dimensional. But it's the story that counts here and while it's not earth-shattering in its magnificence, it's a pleasant enough way of passing the time. It's the movie equivalent of a Sheryl Crow CD - nice to listen to now and again but you wouldn't really miss it if it wasn't there.\": {\"frequency\": 2, \"value\": \"You know all those ...\"}, \"I am decidedly not in the target audience for this film. I am a man nearly 50 who has only recently stumbled across the world of independent film. This happened quite by accident, with the discovery of a movie called Clerks late one night on television. The first two things I noticed about that film were that it was 1) technically amateurish and 2) brilliantly written. When I read an interview with the director in the local paper and he said that one of his influences was Clerks, I started to get interesting. When he said his main influence was The Station Agent, a movie I'd seen on DVD a week prior, I decided I had to go and check it out. The result could be described along the same lines as Clerks, although the two films are nothing alike content wise. Both films suffer from technical gaffes that are overcome through amazing writing. Whereas Clerks is a day in the life of a man who has nothing in his life at all and is afraid to ask tough questions about himself and his situation, Less Like Me is about a man who seemingly forces himself to be constantly busy, he's always running one way or another, filling his life with little things so that he will never have to deal with the big ones. The themes and ideas of this film are strong and poignant. I can tell from watching it that not much has changed since I was growing up, young men still have the same problems they always have. The writer dresses up these problems and themes in the modern vernacular, crafts wonderfully honest characters, and has them do completely believable things. As far as indie cinema goes, this may not be perfect from a technical standpoint, but from an artistic one, it is very close.\": {\"frequency\": 2, \"value\": \"I am decidedly not ...\"}, \"Holy freaking God all-freaking-mighty. This movie was so bad, I thought I was on drugs. In a bad way... The character acting is the poorest thing I've seen in quite some time. This movie was more akin to Lord of the G-Strings, IMHO(it's a real movie). Most of the movie appeared to be done on a horrible green screen. My favorite part was when they are in the carriage, and you can tell there's no horse. They're fleeing from alien monsters, and going about the same speed as a swift jog. Then it switches to a far-shot with a ridiculous CG horse. And the CG in general seems to be sub-par to 1992's Beyond the Mind's Eye. I mean, Come on, really. It felt like a horrible episode of Hercules, only without Kevin Sorbo there to save the day. Worst. Movie. Ever.\": {\"frequency\": 2, \"value\": \"Holy freaking God ...\"}, \"Red Skelton was still another major star who made the transition from movies to television with ease.<br /><br />His shows certainly brought a laughter to the American households of years back.<br /><br />He would begin the show with an opening monologue. Afterwards, we would have a variety of characters. Remember Gertrude and Heathcliff in the monologue? How can we ever forget San Fernando Red? I remember one episode where as a king Red introduced his queen by referring to her as your fatness.<br /><br />Go know that Red would use his comedic talents to really hide from his tragic life. He lost a son to leukemia at age 11 or so. His wife, Georgia, died by suicide.\": {\"frequency\": 2, \"value\": \"Red Skelton was ...\"}, \"Love it, love it, love it! This is another absolutely superb performance from the Divine Miss M. From the beginning to the end, this is one big treat! Don't rent it- buy it now!\": {\"frequency\": 1, \"value\": \"Love it, love it, ...\"}, \"<br /><br />Back in his youth, the old man had wanted to marry his first cousin, but his family forbid it. Many decades later, the old man has raised three children (two boys and one girl), and allows his son and daughter to marry and have children. Soon, the sister is bored with brother #1, and jumps in the bed of brother #2.<br /><br />One might think that the three siblings are stuck somewhere on a remote island. But no -- they are upper class Europeans going to college and busy in the social world.<br /><br />Never do we see a flirtatious moment between any non-related female and the two brothers. Never do we see any flirtatious moment between any non-related male and the one sister. All flirtatious moments are shared between only between the brothers and sister.<br /><br />The weakest part of GLADIATOR was the incest thing. The young emperor Commodus would have hundreds of slave girls and a city full of marriage-minded girls all over him, but no -- he only wanted his sister? If movie incest is your cup of tea, then SUNSHINE will (slowly) thrill you to no end.\": {\"frequency\": 2, \"value\": \"<br /><br />Back ...\"}, \"A have a female friend who is currently being drawn into a relationship with an SOB who has a long term girlfriend. Of course the SOB is very good-looking, charming, etc and my friend is a very intelligent woman. Watching Jean Pierre Leaud's character at work is exactly like watching what goes on in real life when guys like that destroy the lives of our female friends. It's tragic, and you know she's going to end up very hurt, but there's nothing you can do. Leaud is brilliant. Totally empty. A blank throughout, he pulls the faces and tells the stories he thinks will get the reaction he wants.<br /><br />The scene two hours in when Leaud and Lebrun have made love, and the next morning he puts on a record and, very sweetly and charmingly, sings along to amuse her is brilliant. The \\\"What the hell am I doing here with this idiot\\\" expression that flickers back and forth across her face will be in my memory for a long time to come.<br /><br />It's a long film, but see it in one go, preferably in a cinema. Takes a while to get into, but then the time just disappears.\": {\"frequency\": 2, \"value\": \"A have a female ...\"}, \"This show comes up with interesting locations as fast as the travel channel. It is billed as reality but in actuality it is pure prime time soap opera. It's tries to use exotic locales as a facade to bring people into a phony contest & then proceeds to hook viewers on the contestants soap opera style.<br /><br />It also borrows from an early CBS game show pioneer- Beat The Clock- by inventing situations for its contestants to try & overcome. Then it rewards the winner money. If they can spice it up with a little interaction between the characters, even better. While the game format is in slow motion versus Beat The Clock- the real accomplishment of this series is to escape reality. <br /><br />This show has elements of several types of successful past programs. Reality television, hardly, but if your hooked on the contestants, locale or contest, this is your cup of tea. If your not, this entire series is as I say, drivel dripping with gravy. It is another show hiding behind the reality label which is the trend it started in 2000.<br /><br />It is slick & well produced, so it might last a while yet. After all, so do re-runs of Gilligan's Island, Green Acres, The Beverly Hillbillies & The Brady Bunch. This just doesn't employ professional actors. The intelligence level is about the same.\": {\"frequency\": 3, \"value\": \"This show comes up ...\"}, \"Even if you could get past the idea that these boring characters personally witnessed every Significant Moment of the 1960s (ok, so Katie didn't join the Manson Family, and nobody died at Altamont), this movie was still unbelievably awful. I got the impression that the \\\"writers\\\" just locked themselves in a room and watched \\\"Forrest Gump,\\\" \\\"The Wonder Years,\\\" and Oliver Stone's 60s films over and over again and called it research. A Canadian television critic called the conclusion of the first episode \\\"head spinning\\\". He was right.\": {\"frequency\": 2, \"value\": \"Even if you could ...\"}, \"I'm gonna tip the scales here a bit and say I enjoyed this. However, the cartoon is really only going to appeal to those who have very absurdist tendencies. It's definitely something that most people will not get, as is the nature of absurdism.<br /><br />the animation is horrible, but yes, that's the point. The main character is foul mouthed, violent, and stupid. no redeeming qualities whatsoever. his wife shrieks and wails, apparently just barely capable of the most basic communication skills. most of these stories completely lack any kind of point.<br /><br />but again, that's the point ;)<br /><br />If non sequiters, foul language, and complete and utter randomness are your thing, you're going to love this.<br /><br />It is really short, so I would probably rent instead of buying.\": {\"frequency\": 2, \"value\": \"I'm gonna tip the ...\"}, \"I absolutely hate this programme, what kind of people sit and watch this garbage?? OK my dad and mum love it lol but i make sure I'm well out of the room before it comes on. Its so depressing and dreary but the worst thing about it is the acting i cant stand all detective programmes such as this because the detectives are so wooden and heartless. What happened to detective programmes with real mystery??? I mean who wants to know what happened to fictional characters we know nothing about that died over 20 years ago??? I wish the bbc would put more comedy on bbc1 cos now with the vicar of dibley finished there is more room for crap like this.\": {\"frequency\": 2, \"value\": \"I absolutely hate ...\"}, \"This movie surprised me. Some things were \\\"clicheish\\\" and some technological elements reminded me of the movie \\\"Enemy of the State\\\" starring Will Smith. But for the most part very entertaining- good mix with Jamie Foxx and comedian Mike Epps and the 2 wannabe thugs Julio and Ramundo (providing some comic relief). This is a movie you can watch over again-say... some Wednesday night when nothing else is on. I gave it a 9 for entertainment value.\": {\"frequency\": 3, \"value\": \"This movie ...\"}, \"How has this piece of crap stayed on TV this long? It's terrible. It makes me want to shoot someone. It's so fake that it is actually worse than a 1940s sci-fi movie. I'd rather have a stroke than watch this nonsense. I remember watching it when it first came out. I thought, hey this could be interesting, then I found out how absolutely, insanely, ridiculously stupid it really was. It was so bad that I actually took out my pocket knife and stuck my hand to the table.<br /><br />Please people, stop watching this and all other reality shows, they're the trash that is jamming the networks and canceling quality programming that requires some thought to create.\": {\"frequency\": 3, \"value\": \"How has this piece ...\"}, \"Bette Midler is indescribable in this concert. She gives her all every time she is on stage. Whether we are laughing at her jokes and antics or dabbing our eyes at the strains of one of her tremendous ballads, Bette Midler moves her audience. If you can't see it live (which is the best way to see Bette) then this is the next best thing. An interesting thing to look at is how incredible her voice has changed and matured over the years but never lost its power. Her more \\\"vocally correct\\\" version of \\\"Stay With Me\\\" never loses anything in spirit from THE ROSE or DIVINE MADNESS, Here it is just more pure and as heartfelt as ever. I will treasure this concert for a very long time.\": {\"frequency\": 2, \"value\": \"Bette Midler is ...\"}, \"I sat through almost one episode of this series and just couldn't take anymore. It felt as though I'd watched dozens of episodes already, and then it hit me.....There's nothing new here! I've heard that joke on Seinfeld, I saw someone fall like that on friends, an episode of Happy Days had almost the same storyline, ect. None of the actors are interesting here either! Some were good on other shows (not here), and others are new to a profession they should have never entered. Avoid this stinker!\": {\"frequency\": 2, \"value\": \"I sat through ...\"}, \"One of Disney's best films that I can enjoy watching often. you may easily guess the outcome, but who cares? its just plain fun escape for 1 hour forty-two minutes. and after all wasn't movies meant to get away from reality for just a short time anyway? The cast sparkles with delight. -magictrain\": {\"frequency\": 2, \"value\": \"One of Disney's ...\"}, \"Yes, he is! ...No, not because of Pintilie likes to undress his actors and show publicly their privies. Pintilie IS THE naked \\\"emperor\\\" - so to speak...<br /><br />It's big time for someone to state the truth. This impostor is a voyeur, a brat locked in an old man's body. His abundance of nude scenes have no artistic legitimacy whatsoever. It is 100% visual perversion: he gets his kicks by making the actors strip in the buff and look at their willies. And if he does this in front of the audience, he might eve get a hard-on! Did you know that, on the set of \\\"Niki Ardelean\\\", he used to embarrass poor Coca Bloss, by telling her: \\\"Oh, Coca, how I wanna f*** you!\\\"? She is a great lady, very decent and sensitive, and she became unspeakably ashamed - to his petty satisfaction! And, as a worrying alarm signal about the degree of vulgarity and lack of education in Romanian audiences, so many people are still so foolish to declare these visual obscenities \\\"works of art\\\"! Will anyone have ever the decency to expose the truth of it all?\": {\"frequency\": 2, \"value\": \"Yes, he is! ...No, ...\"}, \"I find it rather useless to comment on this \\\"movie\\\" for the simplest reason that it has nothing to comment upon.It's similar to a rotten egg which has nothing good to show to the world excerpt for the fact that it is rotten as other endless number of eggs have been before it. But since a comment is mandatory for such a grandiose insignificance ... <br /><br />Filth is definitely the proper word to describe this movie created in the same manner as any other Romanian \\\"movie\\\" directed by Lucian Pintilie who insists to depict the so called \\\"Romanian reality\\\" following the Communist era (1990 to present days).<br /><br />Under no circumstances recommended for people outside Romania as for the others (who lately find amateurish camera, lack of plot, lack of directorial / actors's quality etc, noise etc. as being trendy and even art-like) : watch & enjoy this \\\"movie\\\" (as I know you will) but do the other well intentioned IMDb members a favor, don't write an online review for it will misguide, irritate and in the end waste their time.<br /><br />On the other hand this movie (among others) has some value whatsoever, an educational one for it sets the example for : \\\"How NOT to make a movie.\\\"\": {\"frequency\": 2, \"value\": \"I find it rather ...\"}, \"Beautiful film, pure Cassavetes style. Gena Rowland gives a stunning performance of a declining actress, dealing with success, aging, loneliness...and alcoholism. She tries to escape her own subconscious ghosts, embodied by the death spectre of a young girl. Acceptance of oneself, of human condition, though its overall difficulties, is the real purpose of the film. The parallel between the theatrical sequences and the film itself are puzzling: it's like if the stage became a way out for the Heroin. If all american movies could only be that top-quality, dealing with human relations on an adult level, not trying to infantilize and standardize feelings... One of the best dramas ever. 10/10.\": {\"frequency\": 2, \"value\": \"Beautiful film, ...\"}, \"Dumb is as dumb does, in this thoroughly uninteresting, supposed black comedy. Essentially what starts out as Chris Klein trying to maintain a low profile, eventually morphs into an uninspired version of \\\"The Three Amigos\\\", only without any laughs. In order for black comedy to work, it must be outrageous, which \\\"Play Dead\\\" is not. In order for black comedy to work, it cannot be mean spirited, which \\\"Play Dead\\\" is. What \\\"Play Dead\\\" really is, is a town full of nut jobs. Fred Dunst does however do a pretty fair imitation of Billy Bob Thornton's character from \\\"A Simple Plan\\\", while Jake Busey does a pretty fair imitation of, well, Jake Busey. - MERK\": {\"frequency\": 2, \"value\": \"Dumb is as dumb ...\"}, \"No spoilers here but I have been a fan since Waking the Dead started but the last series, of which only 3 have been on so far is awful. The stories bear no resemblance to the original idea of the series. I found these 3 in the last series jaw droppingly ludicrous. As a BBC licence payer, after the show I rang BBC complaints to pass on my disappointment. I'm amazed that actors of the calibre of Trevor Eve and Sue Johnstone didn't object to the story lines. These actors have been with these characters for 8 seasons, surly they can see it's lost all direction. It's a good job it is the last series or the next series may start with the team investigating the death of Father Christmas!<br /><br />Paul Bentley, West Yorkshire, England.\": {\"frequency\": 2, \"value\": \"No spoilers here ...\"}, \"This movie had a IMDB rating of 8.1 so I expected much more from it. It starts out funny and endearing with an energy that feels spontaneous. But before the movie is half-way through, it begins to drag and everything becomes sickingly predictable. The characters in the office were delightful in the first third of the movie, but we get to know them a little too well; they become caricatures, not real people at all. This is the same story I've seen hundreds of times, only told here with slightly different circumstances. The thing is, I could stomach another predictable love story if only the dialog weren't so stale!<br /><br />The only thing that could be worse is if the characters had inconsistent and unbelievable motivations, and unfortunately that was also the case with Dead Letter Office. Hopefully this movie will end up in the Dead Movie Office soon.\": {\"frequency\": 2, \"value\": \"This movie had a ...\"}, \"It's very sad that Lucian Pintilie does not stop making movies. They get worse every time. Niki and Flo (2003) is a depressing stab at the camera. It's unfortunate that from the many movies that are made yearly in Romania , the worst of them get to be sent abroad ( e.g. Chicago International Film Festival). This movie without a plot , acting or script is a waste of time and money. Score: 0.02 out of 10.\": {\"frequency\": 2, \"value\": \"It's very sad that ...\"}, \"I have been familiar with the fantastic book of 'Goodnight Mister Tom' for absolutely ages and it was only recently when I got the chance to watch this adaption of it. I have heard lots of positive remarks about this, so I had high hopes. Once this film had finished, I was horrified.<br /><br />This film is not a good film at all. 'Goodnight Mister Tom' was an extremely poor adaption and practically 4.5/10 of the book was missed out. Particularly, I found that a lot of the characters and some great scenes in the book were not in this. There was not much dialogue, It was rushed and far too fast-moving, but I was mostly upset by the fact that you never got to see the bonding and love between William Beech and Tom in this film which was a true let down. The casting was not all that good,either. I thought this could have been really good, but it was so different to the book! Anextremely poor adaption, one of the worst I've seen. This deserves a decent remake that'd better be 1000 times better than this pile of garbage.\": {\"frequency\": 2, \"value\": \"I have been ...\"}, \"This was one of the lamest movies we watched in the last few months with a predictable plot line and pretty bad acting (mainly from the supporting characters). The interview with Hugh Laurie on the DVD was actually more rewarding than the film itself...<br /><br />Hugh Laurie obviously put a lot of effort into learning how to dance the Samba but the scope of his character only required that he immerse himself at the kiddie end of the pool. The movie is based on the appearance of a lovely girl and great music but these are not sufficient to make good entertainment.<br /><br />If you have never seen Rio, or the inside of a British bank, this film is for you. 2 out of 10.\": {\"frequency\": 2, \"value\": \"This was one of ...\"}, \"It's so sad that Romanian audiences are still populated with vulgar and uneducated individuals who relish this kind of cheap and demonstrative shows, as superficial and brutal as the \\\"Garcea\\\" series or the \\\"Vacanta mare\\\" child-plays... The difference is that Mugur Mih\\ufffd\\ufffdescu, Doru Octavian Dumitru and other such sub-artisans never presume to claim their shows as \\\"art\\\". Pintilie, who 40 years ago made a very good movie (\\\"Duminic\\ufffd\\ufffd la ora sase\\\") followed by another one, nice enough (\\\"Reconstituirea\\\"), tries to declare his film-lenghts \\\"art works\\\" - but, unfortunately, he masters at a way too limited level the specifically cinematographic means of expression. As such, \\\"Niki Ardelean\\\" offers again a sample of \\\"HOW NOT\\\" - this being about its only merit.\": {\"frequency\": 2, \"value\": \"It's so sad that ...\"}, \"I watched this movie when Joe Bob Briggs hosted Monstervision on TNT. Even he couldn't make this movie enjoyable. The only reason I watched it until the end is because I teach video production and I wanted to make sure my students never made anything this bad ... but it took all my intestinal fortitude to sit through it though. It's like watching your great grandmother flirting with a 15 year old boy ... excruciatingly painful.<br /><br />If you took the actual film, dipped it in paint thinner, then watched it, it would be more entertaining. Seriously.<br /><br />If you see this movie in the bargin bin at S-Mart, back away from it as if it were a rattlesnake.\": {\"frequency\": 2, \"value\": \"I watched this ...\"}, \"Wow! So much fun! Probably a bit much for normal American kids, and really it's a stretch to call this a kid's film, this movie reminded me a quite a bit of Time Bandits - very Terry Gilliam all the way through. While the overall narrative is pretty much straight forward, Miike still throws in A LOT of surreal and Bunuel-esquire moments. The whole first act violently juxtaposes from scene to scene the normal family life of the main kid/hero, with the spirit world and the evil than is ensuing therein. And while the ending does have a bit of an ambiguous aspect that are common of Miike's work, the layers of meaning and metaphor, particularly the anti-war / anti-revenge message of human folly, is pretty damn poignant. As manic and imaginatively fun as other great Miike films, only instead of over the top torture and gore, he gives us an endless amount of monsters and yokai from Japanese folk-lore creatively conceived via CG and puppetry wrapped into an imaginative multi-faceted adventure. F'n rad, and one of Miike's best!\": {\"frequency\": 1, \"value\": \"Wow! So much fun! ...\"}, \"THE JIST: See something else.<br /><br />This film was highly rated by Gene Siskel, but after watching it I can't figure out why. The film is definitely original and different. It even has interesting dialogue at times, some cool moments, and a creepy \\\"noir\\\" feel. But it just isn't entertaining. It also doesn't make a whole lot of sense, in plot but especially in character motivations. I don't know anyone that behaves like these characters do.<br /><br />This is a difficult movie to take on -- I suggest you don't accept the challenge.\": {\"frequency\": 2, \"value\": \"THE JIST: See ...\"}, \"in this movie, joe pesci slams dunks a basketball. joe pesci...<br /><br />and being consistent, the rest of the script is equally not believable.<br /><br />pesci is a funny guy, which saves this film from sinking int the absolute back of the cellar, but the other roles were pretty bad. the father was a greedy businessman who valued money more than people, which wasn't even well-played. instead of the man being an archetypal villain, he seemed more like an amoral android programmed to make money at all costs. then there's the token piece that is assigned to pesci as a girlfriend or something...i don't even remember...she was that forgettable.<br /><br />anyone who rates this movie above a 5 or 6 is a paid member of some sort of film studio trying to up the reputation of this sunken film, or at least one of those millions of media minions who can't critique efficiently (you know, the people who feel bad if they give anything a mark below 6).<br /><br />stay away...far away. and shame on comedy central, where i saw this film. they usually pick better.\": {\"frequency\": 2, \"value\": \"in this movie, joe ...\"}, \"You do realize that you've been watching the EXACT SAME SHOW for eight years, right? I could understand the initial curiosity of seeing strangers co-exist on an Island, but you'd think that after watching unkempt, stink-ladened heroes run roughshod through the bush with an egg on a spoon for half a decade would be enough to get you to commit to something a little more original (and interesting).<br /><br />And I'm not even speaking of the shows validity which for the record I find questionable. It's just hard to suspend disbelief for \\\"Bushy Bill\\\" eating a rat when the entire crew of producers and camera people are housed in an air conditioned make-shift bio-dome sipping frosty mochcinno's with moxy.<br /><br />What's the appeal here? I don't care about these people or their meandering lives. I just don't get it. But if you DO find yourself being captivated by hairy, unwashed people, I suggest you turn off your TV and just take a trip to your local bus station where you can see people like this in their TRUE habitat. They call them HOMELESS PEOPLE, and free of charge, you can sit back and marvel in their uncanny ability to retrieve various cigarette debris from a plethora of garbage canisters, eventually striking \\\"pay-dirt\\\" and fashioning a homemade Dr. Frankenstein-styled cancer-stick, all the while begging people for change for food when the stink of \\\"Aqua Velva\\\" on their breath is enough to suggest otherwise. And the best part? Much like Survivor, every week one member of the tribe \\\"Leaves\\\" the \\\"Island\\\" when they are unceremoniously sent packing to the local Institution when the frightening unmedicated state of full-blown schizophrenia kicks into gear! Now THAT'S ENTERTAINMENT!\": {\"frequency\": 3, \"value\": \"You do realize ...\"}, \"This guy has no idea of cinema. Okay, it seems he made a few interestig theater shows in his youth, and about two acceptable movies that had success more of political reasons cause they tricked the communist censorship. This all is very good, but look carefully: HE DOES NOT KNOW HIS JOB! The scenes are unbalanced, without proper start and and, with a disordered content and full of emptiness. He has nothing to say about the subject, so he over-licitates with violence, nakedness and gutter language. How is it possible to keep alive such a rotten corpse who never understood anything of cinematographic profession and art? Why don't they let him succumb in piece?\": {\"frequency\": 2, \"value\": \"This guy has no ...\"}, \"I like Chris Rock, but I feel he is wasted in this film. The idea of remaking Heaven Can Wait is fine, but the filmmakers followed the plot of that turkey too closely. When Eddie Murphy remade Dr. Doolittle and The Nutty Professor, he re-did them totally -- so they became Murphy films/vehicles, not just tepid remakes. That's why they were successful. If Chris had done the same, this could have been a much better film. The few laughs that come are when he is doing his standup routine -- so he might as well have done a concert film. It also would have been much funnier if the white man whose body he inhabits was a truck driver or hillbilly. So why does Hollywood keep making junk like this? Because people go to see it -- because they like Chris Rock. So give Chris a decent script and give us better movies! Don't remake films that weren't that good in the first place!\": {\"frequency\": 2, \"value\": \"I like Chris Rock, ...\"}, \"Wow, here it finally is; the action \\\"movie\\\" without action. In a real low-budget setting (don't miss the hilarious flying saucers flying by a few times) of a future Seattle we find a no-brain hardbody seeking to avenge her childhood.<br /><br />There is nothing even remotely original or interesting about the plot and the actors' performance is only rivalled in stupidity by the attempts to steal from other movies, mainly \\\"Matrix\\\" without having the money to do it right. Yes, we do get to see some running on walls and slow motion shoot-outs (45 secs approx.) but these scenes are about as cool as the stupid hardbody's attempts at making jokes about male incompetence now and then.<br /><br />And, yes, we are also served a number of leads that lead absolutely nowhere, as if the script was thought-out by the previously unseen cast while shooting the scenes.<br /><br />Believe me, it is as bad as it possibly can get. In fact, it doesn't deserve to be taken seriously, but perhaps I can make some of you not rent it and save your money.\": {\"frequency\": 2, \"value\": \"Wow, here it ...\"}, \"When i got this movie free from my job, along with three other similar movies.. I watched then with very low expectations. Now this movie isn't bad per se. You get what you pay for. It is a tale of love, betrayal, lies, sex, scandal, everything you want in a movie. Definitely not a Hollywood blockbuster, but for cheap thrills it is not that bad. I would probably never watch this movie again. In a nutshell this is the kind of movie that you would see either very late at night on a local television station that is just wanting to take up some time, or you would see it on a Sunday afternoon on a local television station that is trying to take up some time. Despite the bad acting, clich\\ufffd\\ufffd lines, and sub par camera work. I didn't have the desire to turn off the movie and pretend like it never popped into my DVD player. The story has been done many times in many movies. This one is no different, no better, no worse. <br /><br />Just your average movie.\": {\"frequency\": 3, \"value\": \"When i got this ...\"}, \"Do we really need any more narcissistic garbage on the Baby Boomer generation? Technically, I am a Boomer, though at the time when all the \\\"idealistic youths\\\" of the '60s were reading Marx, burning their draft cards, and generally prolonging a war which destroyed tens of thousands of lives; I was still in grade school. But I remember them well, and 9 out of 10 were just moronic fools, who would believe anything as long as it was destructive.<br /><br />This is just another excercise in self-importance from the kids who never really grew up.\": {\"frequency\": 1, \"value\": \"Do we really need ...\"}, \"This movie is a disgrace to the Major League Franchise. I live in Minnesota and even I can't believe they dumped Cleveland. (Yes I realize at the time the real Indians were pretty good, and the Twins had taken over their spot at the bottom of the American League, but still be consistent.) Anyway I loved the first Major League, liked the second, and always looked forward to the third, when the Indians would finally go all the way to the series. You can't tell me this wasn't the plan after the second film was completed. What Happened? Anyways if your a true fan of the original Major League do yourself a favor and don't watch this junk.\": {\"frequency\": 2, \"value\": \"This movie is a ...\"}, \"Sondra Locke stinks in this film, but then she was an awful 'actress' anyway. Unfortunately, she drags everyone else (including then =real life boyfriend Clint Eastwood down the drain with her. But what was Clint Eastwood thinking when he agreed to star in this one? One read of the script should have told him that this one was going to be a real snorer. It's an exceptionally weak story, basically no story or plot at all. Add in bored, poor acting, even from the normally good Eastwood. There's absolutely no action except a couple arguments and as far as I was concerned, this film ranks up at the top of the heap of natural sleep enhancers. Wow! Could a film BE any more boring? I think watching paint dry or the grass grow might be more fun. A real stinker. Don't bother with this one.\": {\"frequency\": 2, \"value\": \"Sondra Locke ...\"}, \"I loved this movie. I knew it would be chocked full of camp and silliness like the original series. I found it very heart warming to see Adam West, Burt Ward, Frank Gorshin, and Julie Newmar all back together once again. Anyone who loved the Batman series from the 60's should have enjoyed Return to the Batcave. You could tell the actors had a lot of fun making this film, especially Adam West. And I'll bet he would have gladly jumped back into his Batman costume had the script required him to do so. I told a number of friends about this movie who chose not to view it... now they wished they had. I have all of the original 120 episodes on VHS. Now this movie will join my collection. Thank You for the reunion Adam and Burt.\": {\"frequency\": 2, \"value\": \"I loved this ...\"}, \"In 1993, \\\"the visitors\\\" was an enormous hit in France. So, the sequence was inevitable and unfortunately, this sequence ranks among the worst ones ever made. <br /><br />This is a movie that doesn't keep its promises. Indeed, it's supposed to tell a sole story. Jean Reno must go in the twentieth century and take Christian Clavier back in the Middle Ages so that time can normally follow its course. The problem is that Clavier feels completely at ease in the world of the twentieth century, and so make him get back in the Middles Ages is rather hard... Instead of this, the movie goes on several other stories without succeeding in following the main plot. As a consequence, the movie becomes sometimes muddle-headed, sometimes a bit of a mess.<br /><br />But the movie also suffers from the performance of nearly all the actors. Reno and Clavier fall into the trap that however they could avoid in the first movie: they're going over the top and become annoying. Then, why did Jean-Marie Poir\\ufffd\\ufffd the film-maker engage Muriel Robin in the female main role? He made a mistake because she seems ill-at-ease and is absolutely pitiful. The other actors aren't better: Marie-Anne Chazel is nonexistent and Christian Bujeau, unbearable.<br /><br /> Of course, the movie contains a few good moments with efficient gags but it often falls into vulgarity and easiness. Certain sequences and dialogs are affected. It also appears hollow because Poir\\ufffd\\ufffd takes back elements that secured the success of the first movie. Thus, a young girl takes Reno for a close relative of her family and asks him to take part in her wedding.<br /><br />A labored and disappointing follow-up. Anyway, what's the interest of this movie otherwise commercial?<br /><br />\": {\"frequency\": 2, \"value\": \"In 1993, \\\"the ...\"}, \".......Playing Kaddiddlehopper, Col San Fernando, etc. the man was pretty wide ranging and a scream. I love watching him interact w/ Amanda Blake, or Don Knotts or whomever--he clearly was having a ball and I think he made it easier on his guests as well--so long as they Knew ahead of time it wasn't a disciplined, 19 take kind of production. Relax and be loose was clearly the name of the game there.<br /><br />He reminds me of guys like Milton Berle, Benny Hill, maybe Jerry Lewis some too. Great timing, ancient gags that kept audiences in stitches for decades, sheer enjoyment about what he was doing. His sad little clown he played was good too--but in a touching manner.<br /><br />Personally I think he's great, having just bought a two DVD set of his shows from '61 or so, it brings his stuff back in a fond way for me. I can remember seeing him on TV at the end of his run when he was winding up the series in 1971 or so.<br /><br />Check this out if you are a fan or curious. He was a riot.\": {\"frequency\": 2, \"value\": \".......Playing ...\"}, \"The '60s is an occasionally entertaining film, most of this entertainment is from laughing at the film. It is extremely uneven, and includes many annoying elements. Take for instance the switch between black & white, and color. If done right, this could of been fairly effective, but because it was done poorly , it turned into a nuisance and only detracted from the already bad experience; much of the film had an odd feel to it. The acting wasn't extremely bad for a made for TV flick, but then again it was downright embarrassing at other times. Many of the events were not coherent, and ending up being confusing. How did this family somehow end up being at many of the big events during the 1960's? The ending was much too sappy for my tastes; because it was hollywoodized, everything had to turn out right in the end. I would advise you to not waste your time on The '60s and do something else with your time. I'm glad I watched this in class, and not on my own time. I think I can safely say that the best part of the movie was the inclusion of Bob Dylan's music. Those are just my rambling thoughts on the flick. I hope you take my advice, and stay away from this.\": {\"frequency\": 2, \"value\": \"The '60s is an ...\"}, \"If you want Scream or anything like the big-studio horror product that we get forced on us these days don't bother. This well-written film kept me up thinking about all it had to say. Importance of myth in our lives to make it make sense, how children interpret the world (and the violence in it), our ransacking of the environment and ignorance of its history and legends.. all here, but not flatly on the surface. You could technically call it a \\\"monster movie\\\" even though the Wendigo does not take physical form until the end, and then it's even up to you and your beliefs as to what's happening with the legendary spirit/beast. Some standard thriller elements for those looking just for the basics and the film never bores, though in fact the less you see of the creature, the better. Fessenden successfully continues George Romero's tradition of using the genre as parable and as a discussion forum while still keeping us creeped out.\": {\"frequency\": 2, \"value\": \"If you want Scream ...\"}, \"this movie begins with an ordinary funeral... and it insists so hard on this ordinary funeral feel that i lost interest within 5 minutes of watching, and started skipping scenes. it seems to me whomever made this movie is afflicted to the extent of becoming trapped in a permanent morbid trance, unable to contemplate anything else but death and destruction. well, i ain't one of the dark kids from Southpark, i want a movie that within 10 minutes gets me well into an interesting story, i won't sit and watch 10 minutes of nothing but preparations for a funeral.. my grandma on her last years was fascinated by funerals, perhaps she might have enjoyed this \\\"movie\\\".\": {\"frequency\": 2, \"value\": \"this movie begins ...\"}, \"After losing the Emmy for her performance as Mama Rose in the television version of GYPSY, Bette won an Emmy the following year for BETTE MIDLER: DIVA LAS VEGAS, a live concert special filmed for HBO from Las Vegas. Midler, who has been performing live on stage since the 1970's, proves that she is still one of the most electrifying live performers in the business. From her opening number, her classic \\\"Friends\\\", where she descends from the wings atop a beautiful prop cloud, Bette commands the stage with style and charisma from a rap-styled number called \\\"I Look Good\\\" she then proves that she has a way with a joke like few other performers in this business as she segues her way through a variety of musical selections. The section of the show where she salutes burlesque goes on a little too long but she does manage to incorporate her old Sophie Tucker jokes here to good advantage (even though she actually forgets one joke in the middle of telling it, but her ad-libbing until she remembers it is hysterical). Bette also treats us to \\\"Rose's Turn\\\" from GYPSY and the title tune from her smash film THE ROSE as well as a shameless plug for her hit movie THE FIRST WIVES CLUB. She brings the house down near the end with \\\"Stay with Me, Baby\\\" from THE ROSE and her only #1 hit record, \\\"Wind Beneath My Wings\\\" from BEACHES. It's a dazzling evening of musical comedy entertainment and for Midler fans, it's a must.\": {\"frequency\": 2, \"value\": \"After losing the ...\"}, \"During a Kurt Weill celebration in Brooklyn, WHERE DO WE GO FROM HERE? was finally unearthed for a screening. It is amazing that a motion picture, from any era, that has Weill-Gershwin collaborations can possibly be missing from the screens. The score stands tall, and a CD of the material, with Gershwin and Weill, only underscores its merits, which are considerable. Yes, the film has its problems, but the score is not one of them. Ratoff is not in his element as the director of this musical fantasy, and Fred MacMurray cannot quite grasp the material. Then, too, the 'modern' segment is weakly written. BUT the fantasy elements carry the film to a high mark, as does the work of the two delightful leading ladies - Joan Leslie and June Haver. Both have the charm that this kind of work desperately needs to work. As a World War II salute to our country's history - albeit in a 'never was' framework, the film has its place in Hollywood musical history and should be available for all to see and to find its considerable merits.\": {\"frequency\": 2, \"value\": \"During a Kurt ...\"}, \"The story and the show were good, but it was really depressing and I hate depressing movies. Ri'Chard is great. He really put on a top notch performance, and the girl who played his sister was really awesome and gorgeous. Seriously, I thought she was Carmen Electra until I saw the IMDb profile. I can't say anything bad about Peter Galleghar. He's one of my favorite actors. I love Anne Rice. I'm currently reading the Vampire Chronicles, but I'm glad I saw the movie before reading the book. This is a little too\\\"real\\\" for me. I prefer Lestat and Louis's witty little tiffs to the struggles of slaves. Eartha Kitt was so creepy and after her character did what she did The movie was ruined for me; I could barely stand to watch the rest of the show. (sorry for the ambiguity, but I don't want to give anything away) Sorry, but it's just not my type of show.\": {\"frequency\": 2, \"value\": \"The story and the ...\"}, \"Everyone knows about this ''Zero Day'' event. What I think this movie did that Elephant did not is that they made us see how these guys were. They showed their life for about a year. Throughout the movie we get to like them, to laugh with them even though we totally know what they're gonna do. And THAT gives me the chills. Cause I felt guilty to be cheered by their comments, and I just thought Cal was a sweet guy. Even though I KNEW what was gonna happen you know? Even at the end of the movie when they were about to commit suicide and just deciding if they did it on the count of 3 or 4 I thought this was funny but still I was horrified to see their heads blown off. Of course I was. I got to like them. They were wicked, maybe, but I felt like they were really normal guys, that they didn't really realize it. But I knew they were.<br /><br />That's, IMO, the main force of this movie. It makes us realize that our friends, or relatives, or anyone, can be planning something crazy, and that we won't even notice it. This movie, as good as it was, made me feel bad. And that's why I can't go to sleep right now. There's still this little feeling in my stomach. Butterflies.\": {\"frequency\": 2, \"value\": \"Everyone knows ...\"}, \"Somehow they summed up the 60's, ten years that radically changed our country, in four hours. And what a painful four hours it was. They trivilized the major events and happenings and they \\\"claimed\\\" it was about two families yet you barely saw the african-american family. If I were NBC I would be ashamed and embarrassed for airing such trash. What was amusing was this happy-go-lucky family you saw in the very beginning was tortured in so many ways, but managed to attend every major 60's event through the country. And the second family was such a non-factor. They devoted maybe five or six scenes total to this family. That poor son... Please NBC, do not make any movies about any other eras....leave that to PBS and the History Channel\": {\"frequency\": 2, \"value\": \"Somehow they ...\"}, \"The original \\\"les visiteurs\\\" was original, hilarious, interesting, balanced and near perfect. LV2 must be a candidate for \\\"Worst first sequel to a really good film\\\". In LV2 everyone keeps shouting, when a gag doesn't work first it's repeated another 5 times with some vague hope that it will eventually become funny. LV2 is a horrible parody of LV1, except of course that a parody should be inventive. If you loved LV1 just don't see this film, just see LV1 again!!\": {\"frequency\": 2, \"value\": \"The original \\\"les ...\"}, \"God, I was bored out of my head as I watched this pilot. I had been expecting a lot from it, as I'm a huge fan of James Cameron (and not just since \\\"Titanic\\\", I might add), and his name in the credits I thought would be a guarantee of quality (Then again, he also wrote the leaden Strange Days..). But the thing failed miserably at grabbing my attention at any point of its almost two hours of duration. In all that time, it barely went beyond its two line synopsis, and I would be very hard pressed to try to figure out any kind of coherent plot out of all the mess of strands that went nowhere. On top of that, I don't think the acrobatics outdid even those of any regular \\\"A-Team\\\" episode. As for Alba, yes, she is gorgeous, of course, but the fact that she only displays one single facial expression the entire movie (pouty and surly), makes me also get bored of her \\\"gal wit an attitude\\\" schtick pretty soon. You can count me out of this one, Mr. Cameron!\": {\"frequency\": 2, \"value\": \"God, I was bored ...\"}, \"While there aren't any talking animals, big lavish song production numbers, or villians with half white / half black hair ... it does have 1 thing ... realistic people acting normally in a strange circumstance, and Walt & Roy did in their eras with the studio. If you thought think \\\"The Castaways\\\" or \\\"The Island At The Top Of The World\\\" weren't identical, or you hold them to a higher authority than Atlantis, then your idealism is just as whacked as keeping your kids up till midnight to watch a friggin' cartoon.\": {\"frequency\": 2, \"value\": \"While there aren't ...\"}, \"I'm trying to picture the pitch for Dark Angel. \\\"I'm thinking Matrix, I'm thinking Bladerunner, I'm thinking that chick that plays Faith in Angel, wearing shiny black leather - or some chick just like her, leave that one with us. Only - get this! - we'll do it without any plot, dialogue, character, decent action or budget, just some loud bangs and a hot chick in shiny black leather straddling a big throbbing bike. Fanboys dig loud bangs and hot chicks in shiny black leather straddling big throbbing bikes, right?\\\"<br /><br />Flashy, shallow, dreary, formulaic, passionless, tedious, dull, dumb, humourless, desultory, barely competent. Live action anime without any action, or indeed any life. SF just the way Joe Fanboy likes it, in fact. :(\": {\"frequency\": 2, \"value\": \"I'm trying to ...\"}, \"Once big action star who fell off the face of the earth ends up in a small town with a problem with drug dealers and a dead body of a federal agent. Reuniting with some former co-stars to clean up the town.<br /><br />Low key, often to the point of blandness, \\\"action\\\" comedy mostly just doesn't work. Part of the problem is the casting Chris Klien as a former action hero. he's not bad, but he's really not believable as some one who was taken to be a tough guy. As I said he's not bad, he's just just miscast for what his back story is. The real problem here is the combination of the script, which really isn't funny and seems artificial at times, and the direction which is pedestrian to the port of dullness. There is no life in the way things are set up. Its as if the director had a list of shots and went by that list. It makes for an un-engaging film. And yet the film occasionally springs to life, such as the in the final show down that ends the film. That sequence works, but because the earlier parts of the film floundered its drained of much of its power.<br /><br />I can't really recommend the film. Its worth a shot if you're a fan of the actors or are a huge fan of independent cinema in all its forms, but otherwise this is just a disappointment.\": {\"frequency\": 2, \"value\": \"Once big action ...\"}, \"Les Visiteurs, the first movie about the medieval time travelers was actually funny. I like Jean Reno as an actor, but there was more. There were unexpected twists, funny situations and of course plain absurdness, that would remind you a little bit of Louis de Funes.<br /><br />Now this sequel has the same characters, the same actors in great part and the same time traveling. The plot changes a little, since the characters now are supposed to be experienced time travelers. So they jump up and down in history, without paying any attention to the fact that it keeps getting absurder as you advance in the movie. The duke, Jean Reno, tries to keep the whole thing together with his playing, but his character has been emptied, so there's not a lot he can do to save the film.<br /><br />Now the duke's slave/helper, he has really all the attention. The movie is merely about him and his being clumsy / annoying / stupid or whatever he was supposed to be. Fact is; this character tries to produce the laughter from the audience, but he does not succeed. It is as if someone was telling you a really very very bad joke, you already know, but he insists on telling that joke till the end, adding details, to make your suffering a little longer.<br /><br />If you liked Les Visiteurs, do not spoil the taste in your mouth with the sequel. If you didn't like Les Visiteurs, you would never consider seeing the sequel. If you liked this sequel... well, I suppose you still need to see a lot of movies.\": {\"frequency\": 2, \"value\": \"Les Visiteurs, the ...\"}, \"I feel like I've just watched a snuff film....a beautifully acted, taut, engrossing and horrible thing! A two hour litany of perversion in the most basic and all inclusive sense of the word, sexual violence and torture, rape, decapitation, incest, corruption, live burial, and abuse, abuse, abuse. No redemption whatsoever. And I WAS entertained. I couldn't stop watching. What does this say about me, about the people who make and act in this sort of thing, and a world that has become so desensitized that eventually real snuff films will be the norm. And I'm neither puritanical nor humorless, I don't try to hide from the existence of darkness, and I definitely have not led a sheltered life, but I am ashamed of myself. AND I'm sorry to see my British cousins dragging the subject-matter sewers the way my own tribe does. It doesn't have to be cozy, but does it have to wallow in vicarious sadism?\": {\"frequency\": 2, \"value\": \"I feel like I've ...\"}, \"There is no reason to see this movie. A good plot idea is handled very badly. In the middle of the movie everything changes and from there on nothing makes much sense. The reason for the killings are not made clear. The acting is awful. Nick Stahl obviously needs a better director. He was excellent in In the Bedroom, but here he is terrible. Amber Benson from Buffy, has to change her character someday. Even those of you who enjoy gratuitous sex and violence will be disappointed. Even though the movie was 80 minutes, which is too short for a good movie (but too long for this one),there are no deleted scenes in the DVD which means they never bothered to fill in the missing parts to the characters.<br /><br />Don't spend the time on this one.\": {\"frequency\": 2, \"value\": \"There is no reason ...\"}, \"Awful, simply awful. It proves my theory about \\\"star power.\\\" This is supposed to be great TV because the guy who directed (battlestar) Titanica is the same guy who directed this shlop schtock schtick about a chick. B O R I N G.<br /><br />Find something a thousand times more interesting to do - like watch your TV with no picture and no sound. 1/10 (I rated it so high b/c there aren't any negative scores in the IMDb.com rating system.)<br /><br />-Zaphoid<br /><br />PS: My theory about \\\"star power\\\" is: the more \\\"star power\\\" used in a show, the weaker the show is. (It's called an indirect proportionality: quality 1/\\\"star power\\\", less \\\"sp\\\" makes for better quality, etc. Another way to look at it is: \\\"more is less.\\\")<br /><br />-Z\": {\"frequency\": 1, \"value\": \"Awful, simply ...\"}, \"In a movie that follows a struggling actor, played, evidently, by a struggling actor, this does no favours for Chris Klein. He struggles to bring anything memorable to the role and meanders on through the shallow script managing to display, what could only be described as, a bland leading man. The story exists, but that is all, and fails to show any basic start, middle and end and the viewer is left shrugging his shoulders feeling as though nothing in the past hour and three quarters has really happened.<br /><br />One bright light in the midst of this is Fred Durst, who manages to stand out above his seemingly averagely talented co-stars and does a semi-decent job of bringing the backward character of Legde to life. Whether Fred can re-create this when working with a higher calibre of cast remains to be seen but I'l be watching out for him in future.\": {\"frequency\": 2, \"value\": \"In a movie that ...\"}, \"This film was so amateurish I could hardly believe what I was seeing. It is shot on VIDEO! NOT film! I have not seen the likes of this since the early 70's, when late night networks showed movie of the week 'horror flicks' shot in......video. It looks like a bad soap opera, and that is paying it a compliment. Some of the actors give it their best shot. Michael Des Barres does okay with what he is given to do, which is to act like a sex addict out of control. I can't say that it is pleasant to watch.<br /><br />Nastassja Kinski as the therapist sits in a chair for practically the entire film, with very little variation in camera angles. I can't fault her for someone else's poor blocking, but she is totally unbelievable in her role. Her little girl voice works against her here. And I consider myself a Nastassja Kinski fan. She is certainly ageless and exotic, but she's outside her range with this.<br /><br />Alexandra Paul is pathetically overwrought. Every line she delivers is with three exclamation points. Someone must have directed her to scream at all costs. Why would Michael Des Barres want to have sex with such a raging shrew?<br /><br />Finally, Rosanna Arquette as the sweet, maligned wife comes off okay, and probably the most believable of the bunch. But that is not saying much.<br /><br />This has to be the worst film I have seen in years.\": {\"frequency\": 2, \"value\": \"This film was so ...\"}, \"Oh God,what an idiotic movie!Incredibly cheap with fake special effects(the creature is played by one guy in lame costume)and stupid plot.All dialogues are unbelievably bad and these actors(HA!HA!HA!)...they're simply ludicrous.For example I have never seen so annoying characters like in this junk(these dumb kids or pregnant woman with his husband and many more).All in all,this is a great entertainment if you're drunk.Avoid it like the plague.Am I drunk?I don't think so...\": {\"frequency\": 2, \"value\": \"Oh God,what an ...\"}, \"The scenes are fast-paced. the characters are great. I love Anne-Marie Johnson's acting. I really like the ending. <br /><br />However, I was disappointed that this movie didn't delve deeper into Achilles's and Athena's relationship. It only blossomed when they kissed each other.\": {\"frequency\": 2, \"value\": \"The scenes are ...\"}, \"It's been a long time since I last saw a movie this bad.. The acting is very average, the story is horribly boring, and I'm at a loss for words as to the execution. It was completely unoriginal. O, and this is as much a comedy as Clint Eastwood's a pregnant Schwarzenegger! <br /><br />One of the first scenes (the one with the television show - where the hell are you?) got it right - the cast was 80% of let's face it - forgotten actors. If they were hoping for a career relaunch, then I think it might never happen with this on their CV! The script had the potential, but neither 80% of the actors nor the director (who's an actor and clearly should stick to being an actor) pulled it off. Fred Durst was the only one who seemed better than any of the rest.<br /><br />I'm sorry, but if you ever consider watching this - I highly recommend you turn to something less traumatic, because not only it's a total loss of time, but also a weak example of what bad cinema looks like.\": {\"frequency\": 2, \"value\": \"It's been a long ...\"}, \"The 1960's were a time of change and awakening for most people. Social upheaval and unrest were commonplace as people spoke-out about their views. Racial tensions, politics, the Vietnam War, sexual promiscuity, and drug use were all part of the daily fabric, and the daily news. This film attempted to encapsulate these historical aspects into an entertaining movie, and largely succeeded.<br /><br />In this film, two families are followed: one white, one black. During the first half of the film, the story follows each family on a equal basis through social and family struggles. Unfortunately, the second half of the movie is nearly dedicated to the white family. Admittedly, there are more characters in this family, and the story lines are intermingled, but equal consideration is not given to the racial aspects of this century.<br /><br />On the whole, the acting is well done and historical footage is mixed with color and black and white original footage to give a documentary feel to the movie. The movie is a work of fiction, but clips of well-known historical figures are used to set the time-line.<br /><br />I enjoyed the movie but the situations were predictable and the storyline was one-sided.\": {\"frequency\": 2, \"value\": \"The 1960's were a ...\"}, \"I am not so much like Love Sick as I image. Finally the film express sexual relationship of Alex, kik, Sandu their triangle love were full of intenseness, frustration and jealous, at last, Alex waked up and realized that they would not have result and future.Ending up was sad.<br /><br />The director Tudor Giurgiu was in AMC theatre on Sunday 12:00PM on 08/10/06, with us watched the movie together. After the movie he told the audiences that the purposed to create this film which was to express the sexual relationships of Romanian were kind of complicate.<br /><br />On my point of view sexual life is always complicated in everywhere, I don't feel any particular impression and effect from the movie. The love proceeding of Alex and Kiki, and Kiki and her brother Sandu were kind of next door neighborhood story.<br /><br />The two main reasons I don't like this movie are, firstly, the film didn't told us how they started to fall in love? Sounds like after Alex moved into the building which Kiki was living, then two girls are fall in love. It doesn't make sense at all. How a girl would fall in love with another girl instead of a man. Too much fragments, you need to image and connect those stories by your mind. Secondly, The whole film didn't have a scene of Alex and Kik's sexual intercourse, that 's what I was waiting for\\ufffd\\ufffd\\ufffd\\ufffd. However, it still had some parts were deserved to recommend. The \\\"ear piercing \\\" part was kind of interesting. Alex was willing to suffer the pain of ear piercing to appreciate kik's love. That was a touching scene which gave you a little idea of their love. Also, the scene of they were lying in the soccer field, the conversation express their loves were truthful and passionate.\": {\"frequency\": 2, \"value\": \"I am not so much ...\"}, \"I really enjoyed this movie. The script is fresh and unpredictable and the acting is outstanding.It is a down-to-earth movie with characters one cares about. It brought tears into my eyes a few times but left me with a great feeling afterwards.\": {\"frequency\": 2, \"value\": \"I really enjoyed ...\"}, \"Bette Midler showcases her talents and beauty in \\\"Diva Las Vegas\\\". I am thrilled that I taped it and I am able to view whenever I want to. She possesses what it takes to keep an audience in captivity. Her voice is as beautiful as ever and will truly impress you. The highlight of the show was her singing \\\"Stay With Me\\\" from her 1979 movie \\\"The Rose\\\". You can feel the emotion in the song and will end up having goose bumps. The show will leave you with the urge to go out and either rent a Bette Midler movie or go to the nearest music store and purchase one of Bette Midler's albums.\": {\"frequency\": 2, \"value\": \"Bette Midler ...\"}}, \"size\": 25000}, \"id\": {\"complete\": true, \"numeric\": false, \"num_unique\": 24924, \"num_undefined\": 0, \"progress\": 1.0, \"frequent_items\": {}, \"size\": 25000}, \"sentiment\": {\"std\": 0.5000000000000002, \"complete\": true, \"min\": 0.0, \"max\": 1.0, \"quantile\": [0.0, 0.0, 0.0, 0.0, 0.0, 0.0, 0.0, 0.0, 0.0, 0.0, 0.0, 0.0, 0.0, 0.0, 0.0, 0.0, 0.0, 0.0, 0.0, 0.0, 0.0, 0.0, 0.0, 0.0, 0.0, 0.0, 0.0, 0.0, 0.0, 0.0, 0.0, 0.0, 0.0, 0.0, 0.0, 0.0, 0.0, 0.0, 0.0, 0.0, 0.0, 0.0, 0.0, 0.0, 0.0, 0.0, 0.0, 0.0, 0.0, 0.0, 0.0, 1.0, 1.0, 1.0, 1.0, 1.0, 1.0, 1.0, 1.0, 1.0, 1.0, 1.0, 1.0, 1.0, 1.0, 1.0, 1.0, 1.0, 1.0, 1.0, 1.0, 1.0, 1.0, 1.0, 1.0, 1.0, 1.0, 1.0, 1.0, 1.0, 1.0, 1.0, 1.0, 1.0, 1.0, 1.0, 1.0, 1.0, 1.0, 1.0, 1.0, 1.0, 1.0, 1.0, 1.0, 1.0, 1.0, 1.0, 1.0, 1.0, 1.0], \"median\": 0.0, \"numeric\": true, \"num_unique\": 2, \"num_undefined\": 0, \"var\": 0.2500000000000002, \"progress\": 1.0, \"size\": 25000, \"frequent_items\": {\"0\": {\"frequency\": 12500, \"value\": 0}, \"1\": {\"frequency\": 12500, \"value\": 1}}, \"mean\": 0.5000000000000003}}, \"selected_variable\": {\"name\": [\"train_data\"], \"descriptives\": {\"rows\": 25000, \"columns\": 3}, \"view_component\": \"Summary\", \"view_file\": \"sframe\", \"view_params\": {\"y\": null, \"x\": null, \"columns\": [\"id\", \"sentiment\", \"review\"], \"view\": null}, \"view_components\": [\"Summary\", \"Table\", \"Bar Chart\", \"BoxWhisker Plot\", \"Line Chart\", \"Scatter Plot\", \"Heat Map\", \"Plots\"], \"type\": \"SFrame\", \"columns\": [{\"dtype\": \"str\", \"name\": \"id\"}, {\"dtype\": \"int\", \"name\": \"sentiment\"}, {\"dtype\": \"str\", \"name\": \"review\"}], \"column_identifiers\": [\"review\", \"id\", \"sentiment\"]}, \"columns\": [{\"dtype\": \"str\", \"name\": \"id\"}, {\"dtype\": \"int\", \"name\": \"sentiment\"}, {\"dtype\": \"str\", \"name\": \"review\"}]}, e);\n",
       "                });\n",
       "            })();\n",
       "        "
      ]
     },
     "metadata": {},
     "output_type": "display_data"
    }
   ],
   "source": [
    "train_data.show()"
   ]
  },
  {
   "cell_type": "code",
   "execution_count": 5,
   "metadata": {
    "collapsed": false,
    "scrolled": true
   },
   "outputs": [
    {
     "data": {
      "text/html": [
       "<div style=\"max-height:1000px;max-width:1500px;overflow:auto;\"><table frame=\"box\" rules=\"cols\">\n",
       "    <tr>\n",
       "        <th style=\"padding-left: 1em; padding-right: 1em; text-align: center\">id</th>\n",
       "        <th style=\"padding-left: 1em; padding-right: 1em; text-align: center\">sentiment</th>\n",
       "        <th style=\"padding-left: 1em; padding-right: 1em; text-align: center\">review</th>\n",
       "    </tr>\n",
       "    <tr>\n",
       "        <td style=\"padding-left: 1em; padding-right: 1em; text-align: center; vertical-align: top\">5814_8</td>\n",
       "        <td style=\"padding-left: 1em; padding-right: 1em; text-align: center; vertical-align: top\">1</td>\n",
       "        <td style=\"padding-left: 1em; padding-right: 1em; text-align: center; vertical-align: top\">With all this stuff going<br>down at the moment with ...</td>\n",
       "    </tr>\n",
       "    <tr>\n",
       "        <td style=\"padding-left: 1em; padding-right: 1em; text-align: center; vertical-align: top\">2381_9</td>\n",
       "        <td style=\"padding-left: 1em; padding-right: 1em; text-align: center; vertical-align: top\">1</td>\n",
       "        <td style=\"padding-left: 1em; padding-right: 1em; text-align: center; vertical-align: top\">\"The Classic War of the<br>Worlds\" by Timothy Hines ...</td>\n",
       "    </tr>\n",
       "    <tr>\n",
       "        <td style=\"padding-left: 1em; padding-right: 1em; text-align: center; vertical-align: top\">7759_3</td>\n",
       "        <td style=\"padding-left: 1em; padding-right: 1em; text-align: center; vertical-align: top\">0</td>\n",
       "        <td style=\"padding-left: 1em; padding-right: 1em; text-align: center; vertical-align: top\">The film starts with a<br>manager (Nicholas Bell) ...</td>\n",
       "    </tr>\n",
       "    <tr>\n",
       "        <td style=\"padding-left: 1em; padding-right: 1em; text-align: center; vertical-align: top\">3630_4</td>\n",
       "        <td style=\"padding-left: 1em; padding-right: 1em; text-align: center; vertical-align: top\">0</td>\n",
       "        <td style=\"padding-left: 1em; padding-right: 1em; text-align: center; vertical-align: top\">It must be assumed that<br>those who praised this ...</td>\n",
       "    </tr>\n",
       "    <tr>\n",
       "        <td style=\"padding-left: 1em; padding-right: 1em; text-align: center; vertical-align: top\">9495_8</td>\n",
       "        <td style=\"padding-left: 1em; padding-right: 1em; text-align: center; vertical-align: top\">1</td>\n",
       "        <td style=\"padding-left: 1em; padding-right: 1em; text-align: center; vertical-align: top\">Superbly trashy and<br>wondrously unpretentious ...</td>\n",
       "    </tr>\n",
       "    <tr>\n",
       "        <td style=\"padding-left: 1em; padding-right: 1em; text-align: center; vertical-align: top\">8196_8</td>\n",
       "        <td style=\"padding-left: 1em; padding-right: 1em; text-align: center; vertical-align: top\">1</td>\n",
       "        <td style=\"padding-left: 1em; padding-right: 1em; text-align: center; vertical-align: top\">I dont know why people<br>think this is such a bad ...</td>\n",
       "    </tr>\n",
       "    <tr>\n",
       "        <td style=\"padding-left: 1em; padding-right: 1em; text-align: center; vertical-align: top\">7166_2</td>\n",
       "        <td style=\"padding-left: 1em; padding-right: 1em; text-align: center; vertical-align: top\">0</td>\n",
       "        <td style=\"padding-left: 1em; padding-right: 1em; text-align: center; vertical-align: top\">This movie could have<br>been very good, but c ...</td>\n",
       "    </tr>\n",
       "    <tr>\n",
       "        <td style=\"padding-left: 1em; padding-right: 1em; text-align: center; vertical-align: top\">10633_1</td>\n",
       "        <td style=\"padding-left: 1em; padding-right: 1em; text-align: center; vertical-align: top\">0</td>\n",
       "        <td style=\"padding-left: 1em; padding-right: 1em; text-align: center; vertical-align: top\">I watched this video at a<br>friend's house. I'm glad ...</td>\n",
       "    </tr>\n",
       "    <tr>\n",
       "        <td style=\"padding-left: 1em; padding-right: 1em; text-align: center; vertical-align: top\">319_1</td>\n",
       "        <td style=\"padding-left: 1em; padding-right: 1em; text-align: center; vertical-align: top\">0</td>\n",
       "        <td style=\"padding-left: 1em; padding-right: 1em; text-align: center; vertical-align: top\">A friend of mine bought<br>this film for £1, and ...</td>\n",
       "    </tr>\n",
       "    <tr>\n",
       "        <td style=\"padding-left: 1em; padding-right: 1em; text-align: center; vertical-align: top\">8713_10</td>\n",
       "        <td style=\"padding-left: 1em; padding-right: 1em; text-align: center; vertical-align: top\">1</td>\n",
       "        <td style=\"padding-left: 1em; padding-right: 1em; text-align: center; vertical-align: top\">&lt;br /&gt;&lt;br /&gt;This movie is<br>full of references. Like ...</td>\n",
       "    </tr>\n",
       "</table>\n",
       "[10 rows x 3 columns]<br/>\n",
       "</div>"
      ],
      "text/plain": [
       "Columns:\n",
       "\tid\tstr\n",
       "\tsentiment\tint\n",
       "\treview\tstr\n",
       "\n",
       "Rows: 10\n",
       "\n",
       "Data:\n",
       "+---------+-----------+-------------------------------+\n",
       "|    id   | sentiment |             review            |\n",
       "+---------+-----------+-------------------------------+\n",
       "|  5814_8 |     1     | With all this stuff going ... |\n",
       "|  2381_9 |     1     | \"The Classic War of the Wo... |\n",
       "|  7759_3 |     0     | The film starts with a man... |\n",
       "|  3630_4 |     0     | It must be assumed that th... |\n",
       "|  9495_8 |     1     | Superbly trashy and wondro... |\n",
       "|  8196_8 |     1     | I dont know why people thi... |\n",
       "|  7166_2 |     0     | This movie could have been... |\n",
       "| 10633_1 |     0     | I watched this video at a ... |\n",
       "|  319_1  |     0     | A friend of mine bought th... |\n",
       "| 8713_10 |     1     | <br /><br />This movie is ... |\n",
       "+---------+-----------+-------------------------------+\n",
       "[10 rows x 3 columns]"
      ]
     },
     "execution_count": 5,
     "metadata": {},
     "output_type": "execute_result"
    }
   ],
   "source": [
    "train_data.head()"
   ]
  },
  {
   "cell_type": "code",
   "execution_count": 6,
   "metadata": {
    "collapsed": false,
    "scrolled": false
   },
   "outputs": [
    {
     "data": {
      "text/plain": [
       "dtype: str\n",
       "Rows: 1\n",
       "[\"With all this stuff going down at the moment with MJ i've started listening to his music, watching the odd documentary here and there, watched The Wiz and watched Moonwalker again. Maybe i just want to get a certain insight into this guy who i thought was really cool in the eighties just to maybe make up my mind whether he is guilty or innocent. Moonwalker is part biography, part feature film which i remember going to see at the cinema when it was originally released. Some of it has subtle messages about MJ's feeling towards the press and also the obvious message of drugs are bad m'kay.<br /><br />Visually impressive but of course this is all about Michael Jackson so unless you remotely like MJ in anyway then you are going to hate this and find it boring. Some may call MJ an egotist for consenting to the making of this movie BUT MJ and most of his fans would say that he made it for the fans which if true is really nice of him.<br /><br />The actual feature film bit when it finally starts is only on for 20 minutes or so excluding the Smooth Criminal sequence and Joe Pesci is convincing as a psychopathic all powerful drug lord. Why he wants MJ dead so bad is beyond me. Because MJ overheard his plans? Nah, Joe Pesci's character ranted that he wanted people to know it is he who is supplying drugs etc so i dunno, maybe he just hates MJ's music.<br /><br />Lots of cool things in this like MJ turning into a car and a robot and the whole Speed Demon sequence. Also, the director must have had the patience of a saint when it came to filming the kiddy Bad sequence as usually directors hate working with one kid let alone a whole bunch of them performing a complex dance scene.<br /><br />Bottom line, this movie is for people who like MJ on one level or another (which i think is most people). If not, then stay away. It does try and give off a wholesome message and ironically MJ's bestest buddy in this movie is a girl! Michael Jackson is truly one of the most talented people ever to grace this planet but is he guilty? Well, with all the attention i've gave this subject....hmmm well i don't know because people can be different behind closed doors, i know this for a fact. He is either an extremely nice but stupid guy or one of the most sickest liars. I hope he is not the latter.\"]"
      ]
     },
     "execution_count": 6,
     "metadata": {},
     "output_type": "execute_result"
    }
   ],
   "source": [
    "train_data['review'].head(1)"
   ]
  },
  {
   "cell_type": "code",
   "execution_count": 9,
   "metadata": {
    "collapsed": true
   },
   "outputs": [],
   "source": [
    "BASE_DIR = \"/Users/marvinbertin/graphlab_data/Bags-of-Popcorn\""
   ]
  },
  {
   "cell_type": "code",
   "execution_count": 8,
   "metadata": {
    "collapsed": false
   },
   "outputs": [],
   "source": [
    "os.mkdir(\"%s/txt\" % BASE_DIR)\n",
    "train_data.apply(lambda r: file(\"%s/txt/%s.txt\" % (BASE_DIR, r[\"id\"]),\"w\").write(r['review'])).__materialize__()"
   ]
  },
  {
   "cell_type": "code",
   "execution_count": 10,
   "metadata": {
    "collapsed": true
   },
   "outputs": [],
   "source": [
    "unlabeled_train_data.apply(lambda r: file(\"%s/txt/%s.txt\" % (BASE_DIR, r[\"id\"]),\"w\").write(r['review'])).__materialize__()"
   ]
  },
  {
   "cell_type": "code",
   "execution_count": 11,
   "metadata": {
    "collapsed": true
   },
   "outputs": [],
   "source": [
    "class TrainSentences(object):\n",
    "    \"\"\"\n",
    "    Iterator class that returns Sentences from texts files in a input directory\n",
    "    \"\"\"\n",
    "    RE_WIHTE_SPACES = re.compile(\"\\s+\")\n",
    "    STOP_WORDS = set(stopwords.words(\"english\"))\n",
    "    def __init__(self, dirname):\n",
    "        \"\"\"\n",
    "        Initialize a TrainSentences object with a input directory that contains text files for training\n",
    "        :param dirname: directory name which contains the text files        \n",
    "        \"\"\"\n",
    "        self.dirname = dirname\n",
    "\n",
    "    def __iter__(self):\n",
    "        \"\"\"\n",
    "        Sentences iterator that return sentences parsed from files in the input directory.\n",
    "        Each sentences is returned as list of words\n",
    "        \"\"\"\n",
    "        #First iterate  on all files in the input directory\n",
    "        for fname in os.listdir(self.dirname):\n",
    "            # read line from file (Without reading the entire file)\n",
    "            for line in file(os.path.join(self.dirname, fname), \"rb\"):\n",
    "                # split the read line into sentences using NLTK\n",
    "                for s in txt2sentences(line, is_html=True):\n",
    "                    # split the sentence into words using regex\n",
    "                    w =txt2words(s, lower=True, is_html=False, remove_stop_words=False,\n",
    "                                                 remove_none_english_chars=True)\n",
    "                    #skip short sentences with less than 3 words\n",
    "                    if len(w) < 3:\n",
    "                        continue\n",
    "                    yield w\n",
    "\n",
    "def txt2sentences(txt, is_html=False, remove_none_english_chars=True):\n",
    "    \"\"\"\n",
    "    Split the English text into sentences using NLTK\n",
    "    :param txt: input text.\n",
    "    :param is_html: If True thenremove HTML tags using BeautifulSoup\n",
    "    :param remove_none_english_chars: if True then remove non-english chars from text\n",
    "    :return: string in which each line consists of single sentence from the original input text.\n",
    "    :rtype: str\n",
    "    \"\"\"\n",
    "    if is_html:\n",
    "        txt = BeautifulSoup(txt).get_text()\n",
    "    tokenizer = nltk.data.load('tokenizers/punkt/english.pickle')\n",
    "\n",
    "    # split text into sentences using nltk packages\n",
    "    for s in tokenizer.tokenize(txt):\n",
    "        if remove_none_english_chars:\n",
    "            #remove none English chars\n",
    "            s = re.sub(\"[^a-zA-Z]\", \" \", s)\n",
    "        yield s"
   ]
  },
  {
   "cell_type": "code",
   "execution_count": 12,
   "metadata": {
    "collapsed": true
   },
   "outputs": [],
   "source": [
    "def txt2words(txt, lower=True, is_html=False, remove_none_english_chars=True, remove_stop_words=True):\n",
    "    \"\"\"\n",
    "    Split text into words list\n",
    "    :param txt: the input text\n",
    "    :param lower: if to make the  text to lowercase or not.\n",
    "    :param is_html: If True then  remove HTML tags using BeautifulSoup\n",
    "    :param remove_none_english_chars: if True then remove non-english chars from text\n",
    "    :param remove_stop_words: if True then remove stop words from text\n",
    "    :return: words list create from the input text according to the input parameters.\n",
    "    :rtype: list\n",
    "    \"\"\"\n",
    "    if is_html:\n",
    "        txt = BeautifulSoup(txt).get_text()\n",
    "    if lower:\n",
    "        txt = txt.lower()\n",
    "    if remove_none_english_chars:\n",
    "        txt = re.sub(\"[^a-zA-Z]\", \" \", txt)\n",
    "\n",
    "    words = TrainSentences.RE_WIHTE_SPACES.split(txt.strip().lower())\n",
    "    if remove_stop_words:\n",
    "        #remove stop words from text\n",
    "        words = [w for w in words if w not in TrainSentences.STOP_WORDS]\n",
    "    return words"
   ]
  },
  {
   "cell_type": "code",
   "execution_count": 13,
   "metadata": {
    "collapsed": false
   },
   "outputs": [],
   "source": [
    "sentences = TrainSentences(\"%s/LabeledData\" % BASE_DIR)\n",
    "model = gensim.models.Word2Vec(sentences, size=300, workers=4, min_count=40, window=8)\n",
    "model.save(\"%s/movie_fullreviews_300_c_40_w_8.word2vec\" % BASE_DIR)"
   ]
  },
  {
   "cell_type": "code",
   "execution_count": 14,
   "metadata": {
    "collapsed": false
   },
   "outputs": [
    {
     "data": {
      "text/plain": [
       "[(u'terrible', 0.7421640157699585),\n",
       " (u'awful', 0.5961873531341553),\n",
       " (u'atrocious', 0.5896052122116089),\n",
       " (u'horrendous', 0.5849360227584839),\n",
       " (u'dreadful', 0.5772282481193542),\n",
       " (u'lousy', 0.5752981901168823),\n",
       " (u'horrid', 0.5428860187530518),\n",
       " (u'pathetic', 0.5386751294136047),\n",
       " (u'ridiculous', 0.5067158937454224),\n",
       " (u'stupid', 0.5062626600265503)]"
      ]
     },
     "execution_count": 14,
     "metadata": {},
     "output_type": "execute_result"
    }
   ],
   "source": [
    "model.most_similar(\"horrible\")"
   ]
  },
  {
   "cell_type": "code",
   "execution_count": 15,
   "metadata": {
    "collapsed": false
   },
   "outputs": [
    {
     "data": {
      "text/plain": [
       "[(u'superb', 0.6797044277191162),\n",
       " (u'wonderful', 0.6392487287521362),\n",
       " (u'fantastic', 0.6221407651901245),\n",
       " (u'marvellous', 0.5957516431808472),\n",
       " (u'brilliant', 0.5918124318122864),\n",
       " (u'fine', 0.5870006680488586),\n",
       " (u'stellar', 0.5849796533584595),\n",
       " (u'fabulous', 0.5810800194740295),\n",
       " (u'impeccable', 0.5685657262802124),\n",
       " (u'solid', 0.566067099571228)]"
      ]
     },
     "execution_count": 15,
     "metadata": {},
     "output_type": "execute_result"
    }
   ],
   "source": [
    "model.most_similar(\"terrific\")"
   ]
  },
  {
   "cell_type": "code",
   "execution_count": 16,
   "metadata": {
    "collapsed": false
   },
   "outputs": [
    {
     "data": {
      "text/plain": [
       "<bound method SFrame.num_rows of Columns:\n",
       "\tid\tstr\n",
       "\tsentiment\tint\n",
       "\treview\tstr\n",
       "\n",
       "Rows: 25000\n",
       "\n",
       "Data:\n",
       "+---------+-----------+-------------------------------+\n",
       "|    id   | sentiment |             review            |\n",
       "+---------+-----------+-------------------------------+\n",
       "|  5814_8 |     1     | With all this stuff going ... |\n",
       "|  2381_9 |     1     | \"The Classic War of the Wo... |\n",
       "|  7759_3 |     0     | The film starts with a man... |\n",
       "|  3630_4 |     0     | It must be assumed that th... |\n",
       "|  9495_8 |     1     | Superbly trashy and wondro... |\n",
       "|  8196_8 |     1     | I dont know why people thi... |\n",
       "|  7166_2 |     0     | This movie could have been... |\n",
       "| 10633_1 |     0     | I watched this video at a ... |\n",
       "|  319_1  |     0     | A friend of mine bought th... |\n",
       "| 8713_10 |     1     | <br /><br />This movie is ... |\n",
       "+---------+-----------+-------------------------------+\n",
       "[25000 rows x 3 columns]\n",
       "Note: Only the head of the SFrame is printed.\n",
       "You can use print_rows(num_rows=m, num_columns=n) to print more rows and columns.>"
      ]
     },
     "execution_count": 16,
     "metadata": {},
     "output_type": "execute_result"
    }
   ],
   "source": [
    "train_data.num_rows"
   ]
  },
  {
   "cell_type": "code",
   "execution_count": 17,
   "metadata": {
    "collapsed": true
   },
   "outputs": [],
   "source": [
    "class DeepTextAnalyzer(object):\n",
    "    def __init__(self, word2vec_model):\n",
    "        \"\"\"\n",
    "        Construct a DeepTextAnalyzer using the input Word2Vec model\n",
    "        :param word2vec_model: a trained Word2Vec model\n",
    "        \"\"\"\n",
    "        self._model = word2vec_model\n",
    "\n",
    "    def txt2vectors(self,txt, is_html):\n",
    "        \"\"\"\n",
    "        Convert input text into an iterator that returns the corresponding vector representation of each\n",
    "        word in the text, if it exists in the Word2Vec model\n",
    "        :param txt: input text\n",
    "        :param is_html: if True, then extract the text from the input HTML\n",
    "        :return: iterator of vectors created from the words in the text using the Word2Vec model.\n",
    "        \"\"\"\n",
    "        words = txt2words(txt,is_html=is_html, lower=True, remove_none_english_chars=True)\n",
    "        words = [w for w in words if w in self._model]\n",
    "        if len(words) != 0:\n",
    "            for w in words:\n",
    "                yield self._model[w]\n",
    "\n",
    "\n",
    "    def txt2avg_vector(self, txt, is_html):\n",
    "        \"\"\"\n",
    "        Calculate the average vector representation of the input text\n",
    "        :param txt: input text\n",
    "        :param is_html: is the text is a HTML\n",
    "        :return the average vector of the vector representations of the words in the text  \n",
    "        \"\"\"\n",
    "        vectors = self.txt2vectors(txt,is_html=is_html)\n",
    "        vectors_sum = next(vectors, None)\n",
    "        if vectors_sum is None:\n",
    "            return None\n",
    "        count =1.0\n",
    "        for v in vectors:\n",
    "            count += 1\n",
    "            vectors_sum = np.add(vectors_sum,v)\n",
    "        \n",
    "        #calculate the average vector and replace +infy and -inf with numeric values \n",
    "        avg_vector = np.nan_to_num(vectors_sum/count)\n",
    "        return avg_vector"
   ]
  },
  {
   "cell_type": "code",
   "execution_count": 18,
   "metadata": {
    "collapsed": false
   },
   "outputs": [
    {
     "data": {
      "text/plain": [
       "dtype: array\n",
       "Rows: 1\n",
       "[array('d', [0.0012614948209375143, 0.008466312661767006, -0.014087257906794548, -0.0016300550196319818, -0.007059338502585888, 0.04334469512104988, -0.01818360947072506, 0.00011644816549960524, 0.016906248405575752, -0.03242700174450874, 0.015863699838519096, 0.04014977067708969, -0.0028936213348060846, -0.006295966915786266, -0.040098886936903, -0.013835880905389786, 0.04316890612244606, -0.04829014837741852, 0.037902530282735825, 0.03207206353545189, 0.04304228723049164, -0.053176090121269226, 0.027713846415281296, 0.030210109427571297, 0.02624749019742012, 0.037598468363285065, 0.003321701195091009, 0.05034821853041649, -0.04806441813707352, -0.047715410590171814, -0.0026634447276592255, 0.013868541456758976, -0.007943634875118732, -0.00863218680024147, 0.003390579018741846, 0.054701801389455795, -0.015039627440273762, 0.013414383865892887, 0.00010467922402312979, 0.019721226766705513, -0.00816380139440298, 0.009082430973649025, 0.021328585222363472, -0.004181687720119953, -0.002270334865897894, 0.011935228481888771, -0.05130552873015404, 0.0055602844804525375, 0.019077906385064125, 0.008911407552659512, -0.014774837531149387, -0.032748427242040634, -0.006143133621662855, -0.02386060729622841, -0.021467681974172592, -0.01664167270064354, -0.005366201046854258, 0.012156875804066658, -0.01660297065973282, 0.007405613549053669, -0.02323850616812706, -0.005822131875902414, -0.013235490769147873, -0.01821541227400303, 0.010366758331656456, 0.011161605827510357, -0.02533605508506298, 0.021983744576573372, 0.021138647571206093, -0.02847525291144848, 0.01195947453379631, -0.003603596007451415, 0.002510678954422474, 0.04222650080919266, -0.004264372866600752, -0.02102062478661537, 0.019125567749142647, -0.010599857196211815, 0.03200403228402138, 0.03929092362523079, 0.017968691885471344, 0.03428148478269577, 0.018027881160378456, 0.011185307055711746, 0.007492260076105595, 0.022996436804533005, -0.003144139889627695, 0.0003137945313937962, -0.0135280080139637, 0.020932983607053757, 0.042850714176893234, -0.04998481273651123, 0.0007772156386636198, 0.0025023967027664185, 0.01788165606558323, -0.0162020456045866, 0.028534002602100372, 0.022942490875720978, 0.03469337522983551, -0.035088732838630676, -0.009681960567831993, 0.016150642186403275, -0.01703919842839241, 0.008206645026803017, 0.015355532057583332, 0.02763122133910656, 0.031240424141287804, -0.005490703042596579, 0.04893963038921356, -0.0004138208751101047, -0.028551552444696426, -0.047869522124528885, -0.037441857159137726, 0.016087090596556664, 0.018468979746103287, 0.008204749785363674, 0.010467984713613987, 0.01577305980026722, -0.0007300396682694554, -0.003288110950961709, 0.015581773594021797, -0.01655377261340618, -0.007341377902776003, 0.01672067493200302, 0.01669192872941494, 0.005563944112509489, 0.02800964191555977, 0.013422003015875816, 0.012577887624502182, 0.02920934557914734, 0.028126422315835953, 0.042245831340551376, -0.03752722218632698, -0.002808967838063836, -0.0010019486071541905, -0.008066335693001747, 0.04065674543380737, 0.020334802567958832, -0.03608978912234306, 0.03189032897353172, -0.028742074966430664, 0.0048430804163217545, -0.0005036302609369159, -0.0034767682664096355, 0.011853397823870182, 0.015127638354897499, -0.010503558441996574, 0.015713481232523918, 0.008155842311680317, -0.004946984350681305, 0.016751118004322052, 0.010866858996450901, 0.046143293380737305, -0.025566644966602325, -0.009007235988974571, 0.024992920458316803, 0.022416798397898674, -0.017250876873731613, -0.0005581008736044168, -0.01488384511321783, -0.025354312732815742, 0.010849161073565483, 0.009213600307703018, -0.04135606437921524, -0.004413781687617302, 0.018064161762595177, -0.024430694058537483, 0.017585407942533493, 0.038814883679151535, -0.02438667044043541, -0.004018516279757023, -0.008697851561009884, -0.017728092148900032, 0.015079183503985405, -0.017567476257681847, 0.02138207107782364, 0.04240360110998154, -0.0027273872401565313, 0.005983784329146147, 0.023398220539093018, 0.0006651455769315362, 0.028863895684480667, 0.00989012885838747, -0.01083852257579565, -0.023372869938611984, 0.029448337852954865, -0.02141037955880165, -0.007304413244128227, -0.02948426827788353, -0.01120671071112156, 0.0077634709887206554, -0.023748209699988365, 0.005263805389404297, -0.016364511102437973, -0.03563270345330238, 0.0232152808457613, -0.017437471076846123, -0.012335210107266903, 0.001476457342505455, -0.03201775252819061, -0.01967163197696209, 0.006613938137888908, -0.047644298523664474, -0.017522089183330536, -0.03793397918343544, 0.013401911593973637, -0.029090113937854767, -0.004166887141764164, 8.514050568919629e-05, -0.006447819992899895, -0.02611296996474266, -0.004767037928104401, 0.008489146828651428, 6.883689638925716e-05, 0.0004596116195898503, 0.012537455186247826, 0.012111425399780273, -0.004563960246741772, -0.010791306383907795, 0.004211562220007181, -0.04108422249555588, -0.0403512641787529, -0.01669473573565483, -0.06854922324419022, -0.03116234391927719, -0.047590091824531555, -0.02343774028122425, 0.00043160535278730094, -0.008856186643242836, 0.01663125865161419, 0.01515940297394991, 0.04177667573094368, 0.00527251698076725, 0.029161928221583366, 0.029585452750325203, 0.015740804374217987, 0.004141044337302446, -0.006134516559541225, 0.013207712210714817, -0.03499723598361015, -0.00873030535876751, 0.007721337024122477, 0.0177578404545784, 0.010071958415210247, -0.0008008982404135168, 0.0014922472182661295, -9.212618169840425e-05, 0.05302103981375694, -0.028223084285855293, 0.006051093805581331, 0.015598352998495102, -0.06698843091726303, 0.01843392662703991, 0.012762924656271935, -0.0031650825403630733, 0.025931525975465775, -0.04777177795767784, -0.023067818954586983, 0.03958435356616974, 0.03208877891302109, -0.008792072534561157, -0.0011536546517163515, 0.05004354938864708, -0.03648979589343071, -0.015460612252354622, 0.03002374991774559, 0.0023266305215656757, 0.01835554838180542, 0.003708485048264265, 0.007839184254407883, -0.005778189282864332, 0.024482635781168938, 0.009702498093247414, -0.04404091835021973, -0.01127843651920557, -0.08277015388011932, -0.03169398009777069, -0.023913241922855377, -0.040408309549093246, 0.005951083265244961, -0.011460577137768269, 0.00851412769407034, -0.012875419110059738, 0.023279549553990364, -0.02647244930267334, -0.00930623896420002, 0.00477894302457571, 0.005417905747890472, -0.04355395585298538, 0.05461806431412697, -0.030192583799362183, -0.012944117188453674, 0.03128167614340782, 0.011234463192522526, 0.0437115803360939, -0.026244888082146645, -0.00775059824809432, 0.0372600257396698, 0.004750045482069254, -0.009397833608090878])]"
      ]
     },
     "execution_count": 18,
     "metadata": {},
     "output_type": "execute_result"
    }
   ],
   "source": [
    "dt = DeepTextAnalyzer(model)\n",
    "train_data['vectors'] = train_data['review'].apply(lambda p: dt.txt2avg_vector(p, is_html=True))\n",
    "train_data['vectors'].head(1)"
   ]
  },
  {
   "cell_type": "code",
   "execution_count": 19,
   "metadata": {
    "collapsed": false,
    "scrolled": true
   },
   "outputs": [
    {
     "data": {
      "text/plain": [
       "25000"
      ]
     },
     "execution_count": 19,
     "metadata": {},
     "output_type": "execute_result"
    }
   ],
   "source": [
    "train_data.num_rows()"
   ]
  },
  {
   "cell_type": "code",
   "execution_count": 20,
   "metadata": {
    "collapsed": false
   },
   "outputs": [
    {
     "data": {
      "text/html": [
       "<div style=\"max-height:1000px;max-width:1500px;overflow:auto;\"><table frame=\"box\" rules=\"cols\">\n",
       "    <tr>\n",
       "        <th style=\"padding-left: 1em; padding-right: 1em; text-align: center\">id</th>\n",
       "        <th style=\"padding-left: 1em; padding-right: 1em; text-align: center\">sentiment</th>\n",
       "        <th style=\"padding-left: 1em; padding-right: 1em; text-align: center\">review</th>\n",
       "        <th style=\"padding-left: 1em; padding-right: 1em; text-align: center\">vectors</th>\n",
       "    </tr>\n",
       "    <tr>\n",
       "        <td style=\"padding-left: 1em; padding-right: 1em; text-align: center; vertical-align: top\">5814_8</td>\n",
       "        <td style=\"padding-left: 1em; padding-right: 1em; text-align: center; vertical-align: top\">1</td>\n",
       "        <td style=\"padding-left: 1em; padding-right: 1em; text-align: center; vertical-align: top\">With all this stuff going<br>down at the moment with ...</td>\n",
       "        <td style=\"padding-left: 1em; padding-right: 1em; text-align: center; vertical-align: top\">[0.00126149482094,<br>0.00846631266177, ...</td>\n",
       "    </tr>\n",
       "    <tr>\n",
       "        <td style=\"padding-left: 1em; padding-right: 1em; text-align: center; vertical-align: top\">2381_9</td>\n",
       "        <td style=\"padding-left: 1em; padding-right: 1em; text-align: center; vertical-align: top\">1</td>\n",
       "        <td style=\"padding-left: 1em; padding-right: 1em; text-align: center; vertical-align: top\">\"The Classic War of the<br>Worlds\" by Timothy Hines ...</td>\n",
       "        <td style=\"padding-left: 1em; padding-right: 1em; text-align: center; vertical-align: top\">[0.00941793154925,<br>0.00266537535936, ...</td>\n",
       "    </tr>\n",
       "    <tr>\n",
       "        <td style=\"padding-left: 1em; padding-right: 1em; text-align: center; vertical-align: top\">7759_3</td>\n",
       "        <td style=\"padding-left: 1em; padding-right: 1em; text-align: center; vertical-align: top\">0</td>\n",
       "        <td style=\"padding-left: 1em; padding-right: 1em; text-align: center; vertical-align: top\">The film starts with a<br>manager (Nicholas Bell) ...</td>\n",
       "        <td style=\"padding-left: 1em; padding-right: 1em; text-align: center; vertical-align: top\">[0.000344402680639,<br>-0.0448061563075, ...</td>\n",
       "    </tr>\n",
       "    <tr>\n",
       "        <td style=\"padding-left: 1em; padding-right: 1em; text-align: center; vertical-align: top\">3630_4</td>\n",
       "        <td style=\"padding-left: 1em; padding-right: 1em; text-align: center; vertical-align: top\">0</td>\n",
       "        <td style=\"padding-left: 1em; padding-right: 1em; text-align: center; vertical-align: top\">It must be assumed that<br>those who praised this ...</td>\n",
       "        <td style=\"padding-left: 1em; padding-right: 1em; text-align: center; vertical-align: top\">[0.0226462651044,<br>-0.0204022880644, ...</td>\n",
       "    </tr>\n",
       "    <tr>\n",
       "        <td style=\"padding-left: 1em; padding-right: 1em; text-align: center; vertical-align: top\">9495_8</td>\n",
       "        <td style=\"padding-left: 1em; padding-right: 1em; text-align: center; vertical-align: top\">1</td>\n",
       "        <td style=\"padding-left: 1em; padding-right: 1em; text-align: center; vertical-align: top\">Superbly trashy and<br>wondrously unpretentious ...</td>\n",
       "        <td style=\"padding-left: 1em; padding-right: 1em; text-align: center; vertical-align: top\">[0.0169358514249,<br>-0.00542118074372, ...</td>\n",
       "    </tr>\n",
       "    <tr>\n",
       "        <td style=\"padding-left: 1em; padding-right: 1em; text-align: center; vertical-align: top\">8196_8</td>\n",
       "        <td style=\"padding-left: 1em; padding-right: 1em; text-align: center; vertical-align: top\">1</td>\n",
       "        <td style=\"padding-left: 1em; padding-right: 1em; text-align: center; vertical-align: top\">I dont know why people<br>think this is such a bad ...</td>\n",
       "        <td style=\"padding-left: 1em; padding-right: 1em; text-align: center; vertical-align: top\">[0.0193388033658,<br>0.00649426970631, ...</td>\n",
       "    </tr>\n",
       "    <tr>\n",
       "        <td style=\"padding-left: 1em; padding-right: 1em; text-align: center; vertical-align: top\">7166_2</td>\n",
       "        <td style=\"padding-left: 1em; padding-right: 1em; text-align: center; vertical-align: top\">0</td>\n",
       "        <td style=\"padding-left: 1em; padding-right: 1em; text-align: center; vertical-align: top\">This movie could have<br>been very good, but c ...</td>\n",
       "        <td style=\"padding-left: 1em; padding-right: 1em; text-align: center; vertical-align: top\">[0.0182176362723,<br>-0.0564987808466, ...</td>\n",
       "    </tr>\n",
       "    <tr>\n",
       "        <td style=\"padding-left: 1em; padding-right: 1em; text-align: center; vertical-align: top\">10633_1</td>\n",
       "        <td style=\"padding-left: 1em; padding-right: 1em; text-align: center; vertical-align: top\">0</td>\n",
       "        <td style=\"padding-left: 1em; padding-right: 1em; text-align: center; vertical-align: top\">I watched this video at a<br>friend's house. I'm glad ...</td>\n",
       "        <td style=\"padding-left: 1em; padding-right: 1em; text-align: center; vertical-align: top\">[-0.0137769971043,<br>0.0515923947096, ...</td>\n",
       "    </tr>\n",
       "    <tr>\n",
       "        <td style=\"padding-left: 1em; padding-right: 1em; text-align: center; vertical-align: top\">319_1</td>\n",
       "        <td style=\"padding-left: 1em; padding-right: 1em; text-align: center; vertical-align: top\">0</td>\n",
       "        <td style=\"padding-left: 1em; padding-right: 1em; text-align: center; vertical-align: top\">A friend of mine bought<br>this film for £1, and ...</td>\n",
       "        <td style=\"padding-left: 1em; padding-right: 1em; text-align: center; vertical-align: top\">[0.0589527860284,<br>-0.0169450119138, ...</td>\n",
       "    </tr>\n",
       "    <tr>\n",
       "        <td style=\"padding-left: 1em; padding-right: 1em; text-align: center; vertical-align: top\">8713_10</td>\n",
       "        <td style=\"padding-left: 1em; padding-right: 1em; text-align: center; vertical-align: top\">1</td>\n",
       "        <td style=\"padding-left: 1em; padding-right: 1em; text-align: center; vertical-align: top\">&lt;br /&gt;&lt;br /&gt;This movie is<br>full of references. Like ...</td>\n",
       "        <td style=\"padding-left: 1em; padding-right: 1em; text-align: center; vertical-align: top\">[-0.0252398718148,<br>0.0132357999682, ...</td>\n",
       "    </tr>\n",
       "</table>\n",
       "[10 rows x 4 columns]<br/>\n",
       "</div>"
      ],
      "text/plain": [
       "Columns:\n",
       "\tid\tstr\n",
       "\tsentiment\tint\n",
       "\treview\tstr\n",
       "\tvectors\tarray\n",
       "\n",
       "Rows: 10\n",
       "\n",
       "Data:\n",
       "+---------+-----------+-------------------------------+\n",
       "|    id   | sentiment |             review            |\n",
       "+---------+-----------+-------------------------------+\n",
       "|  5814_8 |     1     | With all this stuff going ... |\n",
       "|  2381_9 |     1     | \"The Classic War of the Wo... |\n",
       "|  7759_3 |     0     | The film starts with a man... |\n",
       "|  3630_4 |     0     | It must be assumed that th... |\n",
       "|  9495_8 |     1     | Superbly trashy and wondro... |\n",
       "|  8196_8 |     1     | I dont know why people thi... |\n",
       "|  7166_2 |     0     | This movie could have been... |\n",
       "| 10633_1 |     0     | I watched this video at a ... |\n",
       "|  319_1  |     0     | A friend of mine bought th... |\n",
       "| 8713_10 |     1     | <br /><br />This movie is ... |\n",
       "+---------+-----------+-------------------------------+\n",
       "+-------------------------------+\n",
       "|            vectors            |\n",
       "+-------------------------------+\n",
       "| [0.00126149482094, 0.00846... |\n",
       "| [0.00941793154925, 0.00266... |\n",
       "| [0.000344402680639, -0.044... |\n",
       "| [0.0226462651044, -0.02040... |\n",
       "| [0.0169358514249, -0.00542... |\n",
       "| [0.0193388033658, 0.006494... |\n",
       "| [0.0182176362723, -0.05649... |\n",
       "| [-0.0137769971043, 0.05159... |\n",
       "| [0.0589527860284, -0.01694... |\n",
       "| [-0.0252398718148, 0.01323... |\n",
       "+-------------------------------+\n",
       "[10 rows x 4 columns]"
      ]
     },
     "execution_count": 20,
     "metadata": {},
     "output_type": "execute_result"
    }
   ],
   "source": [
    "train_data.head()"
   ]
  },
  {
   "cell_type": "code",
   "execution_count": 26,
   "metadata": {
    "collapsed": true
   },
   "outputs": [],
   "source": [
    "train_subset, test_subset = train_data.random_split(0.8, seed=1)"
   ]
  },
  {
   "cell_type": "code",
   "execution_count": 28,
   "metadata": {
    "collapsed": false,
    "scrolled": false
   },
   "outputs": [
    {
     "name": "stdout",
     "output_type": "stream",
     "text": [
      "PROGRESS: Creating a validation set from 5 percent of training data. This may take a while.\n",
      "          You can set ``validation_set=None`` to disable validation tracking.\n",
      "\n",
      "PROGRESS: The following methods are available for this type of problem.\n",
      "PROGRESS: LogisticClassifier, SVMClassifier\n",
      "PROGRESS: The returned model will be chosen according to validation accuracy.\n",
      "PROGRESS: Logistic regression:\n",
      "PROGRESS: --------------------------------------------------------\n",
      "PROGRESS: Number of examples          : 18930\n",
      "PROGRESS: Number of classes           : 2\n",
      "PROGRESS: Number of feature columns   : 1\n",
      "PROGRESS: Number of unpacked features : 300\n",
      "PROGRESS: Number of coefficients    : 301\n",
      "PROGRESS: Starting Newton Method\n",
      "PROGRESS: --------------------------------------------------------\n",
      "PROGRESS: +-----------+----------+--------------+-------------------+---------------------+\n",
      "PROGRESS: | Iteration | Passes   | Elapsed Time | Training-accuracy | Validation-accuracy |\n",
      "PROGRESS: +-----------+----------+--------------+-------------------+---------------------+\n",
      "PROGRESS: | 1         | 2        | 14.474462    | 0.860592          | 0.854207            |\n",
      "PROGRESS: | 2         | 3        | 23.396054    | 0.864237          | 0.860078            |\n",
      "PROGRESS: | 3         | 4        | 34.451691    | 0.864342          | 0.858121            |\n",
      "PROGRESS: | 4         | 5        | 42.645733    | 0.864712          | 0.858121            |\n",
      "PROGRESS: | 5         | 6        | 50.437602    | 0.865029          | 0.858121            |\n",
      "PROGRESS: | 6         | 7        | 60.880468    | 0.865029          | 0.858121            |\n",
      "PROGRESS: +-----------+----------+--------------+-------------------+---------------------+\n",
      "PROGRESS: SVM:\n",
      "PROGRESS: --------------------------------------------------------\n",
      "PROGRESS: Number of examples          : 18930\n",
      "PROGRESS: Number of classes           : 2\n",
      "PROGRESS: Number of feature columns   : 1\n",
      "PROGRESS: Number of unpacked features : 300\n",
      "PROGRESS: Number of coefficients    : 301\n",
      "PROGRESS: Starting L-BFGS\n",
      "PROGRESS: --------------------------------------------------------\n",
      "PROGRESS: +-----------+----------+-----------+--------------+-------------------+---------------------+\n",
      "PROGRESS: | Iteration | Passes   | Step size | Elapsed Time | Training-accuracy | Validation-accuracy |\n",
      "PROGRESS: +-----------+----------+-----------+--------------+-------------------+---------------------+\n",
      "PROGRESS: | 1         | 4        | 0.000026  | 1.248950     | 0.739620          | 0.757339            |\n",
      "PROGRESS: | 2         | 6        | 1.000000  | 2.173936     | 0.785103          | 0.796477            |\n",
      "PROGRESS: | 3         | 7        | 1.000000  | 2.885037     | 0.689805          | 0.653620            |\n",
      "PROGRESS: | 4         | 9        | 1.000000  | 4.020873     | 0.820338          | 0.825832            |\n",
      "PROGRESS: | 5         | 10       | 1.000000  | 4.715223     | 0.825832          | 0.824853            |\n",
      "PROGRESS: | 6         | 11       | 1.000000  | 5.414202     | 0.836344          | 0.818004            |\n",
      "PROGRESS: | 10        | 16       | 1.000000  | 8.455055     | 0.842631          | 0.821918            |\n",
      "PROGRESS: +-----------+----------+-----------+--------------+-------------------+---------------------+\n",
      "PROGRESS: Model selection based on validation accuracy:\n",
      "PROGRESS: ---------------------------------------------\n",
      "PROGRESS: LogisticClassifier              : 0.858121\n",
      "PROGRESS: SVMClassifier                   : 0.821918\n",
      "PROGRESS: ---------------------------------------------\n",
      "PROGRESS: Selecting LogisticClassifier based on validation set performance.\n"
     ]
    },
    {
     "data": {
      "text/plain": [
       "{'accuracy': 0.8534072900158478, 'confusion_matrix': Columns:\n",
       " \ttarget_label\tint\n",
       " \tpredicted_label\tint\n",
       " \tcount\tint\n",
       " \n",
       " Rows: 4\n",
       " \n",
       " Data:\n",
       " +--------------+-----------------+-------+\n",
       " | target_label | predicted_label | count |\n",
       " +--------------+-----------------+-------+\n",
       " |      0       |        1        |  392  |\n",
       " |      1       |        0        |  348  |\n",
       " |      1       |        1        |  2216 |\n",
       " |      0       |        0        |  2092 |\n",
       " +--------------+-----------------+-------+\n",
       " [4 rows x 3 columns]}"
      ]
     },
     "execution_count": 28,
     "metadata": {},
     "output_type": "execute_result"
    }
   ],
   "source": [
    "cls = gl.classifier.create(train_subset, target=\"sentiment\", features=[\"vectors\"])\n",
    "result1 = cls.evaluate(test_subset)\n",
    "result1"
   ]
  },
  {
   "cell_type": "code",
   "execution_count": 31,
   "metadata": {
    "collapsed": false
   },
   "outputs": [
    {
     "name": "stdout",
     "output_type": "stream",
     "text": [
      "Using network:\n",
      "\n",
      "### network layers ###\n",
      "layer[0]: FullConnectionLayer\n",
      "  init_sigma = 0.01\n",
      "  init_random = gaussian\n",
      "  init_bias = 0\n",
      "  num_hidden_units = 10\n",
      "layer[1]: SigmoidLayer\n",
      "layer[2]: FullConnectionLayer\n",
      "  init_sigma = 0.01\n",
      "  init_random = gaussian\n",
      "  init_bias = 0\n",
      "  num_hidden_units = 2\n",
      "layer[3]: SoftmaxLayer\n",
      "### end network layers ###\n",
      "\n",
      "### network parameters ###\n",
      "learning_rate = 0.001\n",
      "metric = accuracy,recall@2\n",
      "momentum = 0.9\n",
      "### end network parameters ###\n",
      "\n",
      "PROGRESS: Creating a validation set from 5 percent of training data. This may take a while.\n",
      "          You can set ``validation_set=None`` to disable validation tracking.\n",
      "\n",
      "PROGRESS: Creating neuralnet using cpu\n",
      "PROGRESS: Training with batch size = 100\n",
      "PROGRESS: +-----------+----------+--------------+-------------------+---------------------+-------------------+---------------------+-----------------+\n",
      "PROGRESS: | Iteration | Examples | Elapsed Time | Training-accuracy | Validation-accuracy | Training-recall@2 | Validation-recall@2 | Examples/second |\n",
      "PROGRESS: +-----------+----------+--------------+-------------------+---------------------+-------------------+---------------------+-----------------+\n",
      "PROGRESS: | 1         | 19000    | 0.375997     | 0.503105          | 0.497059            | 1.000000          | 1.000000            | 50532.433594    |\n",
      "PROGRESS: | 2         | 19000    | 0.756242     | 0.500684          | 0.497059            | 1.000000          | 1.000000            | 49989.058594    |\n",
      "PROGRESS: | 3         | 19000    | 1.130218     | 0.500316          | 0.497059            | 1.000000          | 1.000000            | 50827.406250    |\n",
      "PROGRESS: +-----------+----------+--------------+-------------------+---------------------+-------------------+---------------------+-----------------+\n"
     ]
    },
    {
     "data": {
      "text/plain": [
       "{'accuracy': 0.4920760691165924, 'confusion_matrix': Columns:\n",
       " \ttarget_label\tint\n",
       " \tpredicted_label\tint\n",
       " \tcount\tint\n",
       " \n",
       " Rows: 2\n",
       " \n",
       " Data:\n",
       " +--------------+-----------------+-------+\n",
       " | target_label | predicted_label | count |\n",
       " +--------------+-----------------+-------+\n",
       " |      0       |        0        |  2484 |\n",
       " |      1       |        0        |  2564 |\n",
       " +--------------+-----------------+-------+\n",
       " [2 rows x 3 columns]}"
      ]
     },
     "execution_count": 31,
     "metadata": {},
     "output_type": "execute_result"
    }
   ],
   "source": [
    "cls = gl.classifier.neuralnet_classifier.create(train_subset, target=\"sentiment\", features=[\"vectors\"],\n",
    "                                                metric=['accuracy', 'recall@2'],\n",
    "                                                max_iterations=3)\n",
    "result2 = cls.evaluate(test_subset)\n",
    "result2"
   ]
  },
  {
   "cell_type": "code",
   "execution_count": 32,
   "metadata": {
    "collapsed": false
   },
   "outputs": [
    {
     "name": "stdout",
     "output_type": "stream",
     "text": [
      "PROGRESS: Creating a validation set from 5 percent of training data. This may take a while.\n",
      "          You can set ``validation_set=None`` to disable validation tracking.\n",
      "\n",
      "PROGRESS: Random forest classifier:\n",
      "PROGRESS: --------------------------------------------------------\n",
      "PROGRESS: Number of examples          : 18879\n",
      "PROGRESS: Number of classes           : 2\n",
      "PROGRESS: Number of feature columns   : 1\n",
      "PROGRESS: Number of unpacked features : 300\n",
      "PROGRESS: Starting Boosted Trees\n",
      "PROGRESS: --------------------------------------------------------\n",
      "PROGRESS:   Iter      Accuracy          Elapsed time\n",
      "PROGRESS:         (training) (validation)\n",
      "PROGRESS:      0   7.592e-01   7.018e-01        1.10s\n",
      "PROGRESS:      1   7.815e-01   7.409e-01        1.82s\n",
      "PROGRESS:      2   7.943e-01   7.418e-01        2.54s\n",
      "PROGRESS:      3   7.959e-01   7.418e-01        3.27s\n",
      "PROGRESS:      4   7.986e-01   7.521e-01        4.03s\n",
      "PROGRESS:      5   8.006e-01   7.577e-01        4.77s\n",
      "PROGRESS:      6   8.058e-01   7.596e-01        5.52s\n",
      "PROGRESS:      7   8.077e-01   7.502e-01        6.25s\n",
      "PROGRESS:      8   8.087e-01   7.521e-01        6.99s\n",
      "PROGRESS:      9   8.122e-01   7.521e-01        7.73s\n"
     ]
    },
    {
     "data": {
      "text/plain": [
       "{'accuracy': 0.7670364500792393, 'confusion_matrix': Columns:\n",
       " \ttarget_label\tint\n",
       " \tpredicted_label\tint\n",
       " \tcount\tint\n",
       " \n",
       " Rows: 4\n",
       " \n",
       " Data:\n",
       " +--------------+-----------------+-------+\n",
       " | target_label | predicted_label | count |\n",
       " +--------------+-----------------+-------+\n",
       " |      0       |        1        |  600  |\n",
       " |      1       |        1        |  1988 |\n",
       " |      1       |        0        |  576  |\n",
       " |      0       |        0        |  1884 |\n",
       " +--------------+-----------------+-------+\n",
       " [4 rows x 3 columns]}"
      ]
     },
     "execution_count": 32,
     "metadata": {},
     "output_type": "execute_result"
    }
   ],
   "source": [
    "cls = gl.classifier.random_forest_classifier.create(train_subset, target=\"sentiment\", features=[\"vectors\"])\n",
    "result3 = cls.evaluate(test_subset)\n",
    "result3"
   ]
  },
  {
   "cell_type": "code",
   "execution_count": 33,
   "metadata": {
    "collapsed": false
   },
   "outputs": [
    {
     "name": "stdout",
     "output_type": "stream",
     "text": [
      "PROGRESS: Creating a validation set from 5 percent of training data. This may take a while.\n",
      "          You can set ``validation_set=None`` to disable validation tracking.\n",
      "\n",
      "PROGRESS: Boosted trees classifier:\n",
      "PROGRESS: --------------------------------------------------------\n",
      "PROGRESS: Number of examples          : 19002\n",
      "PROGRESS: Number of classes           : 2\n",
      "PROGRESS: Number of feature columns   : 1\n",
      "PROGRESS: Number of unpacked features : 300\n",
      "PROGRESS: Starting Boosted Trees\n",
      "PROGRESS: --------------------------------------------------------\n",
      "PROGRESS:   Iter      Accuracy          Elapsed time\n",
      "PROGRESS:         (training) (validation)\n",
      "PROGRESS:      0   7.668e-01   7.358e-01        1.17s\n",
      "PROGRESS:      1   7.920e-01   7.432e-01        2.35s\n",
      "PROGRESS:      2   8.158e-01   7.800e-01        3.54s\n",
      "PROGRESS:      3   8.250e-01   7.832e-01        4.82s\n",
      "PROGRESS:      4   8.365e-01   7.937e-01        6.17s\n",
      "PROGRESS:      5   8.469e-01   7.853e-01        7.45s\n",
      "PROGRESS:      6   8.530e-01   7.926e-01        8.67s\n",
      "PROGRESS:      7   8.612e-01   8.021e-01        9.82s\n",
      "PROGRESS:      8   8.692e-01   8.053e-01       10.98s\n",
      "PROGRESS:      9   8.753e-01   8.053e-01       12.13s\n"
     ]
    },
    {
     "data": {
      "text/plain": [
       "{'accuracy': 0.8019017432646592, 'confusion_matrix': Columns:\n",
       " \ttarget_label\tint\n",
       " \tpredicted_label\tint\n",
       " \tcount\tint\n",
       " \n",
       " Rows: 4\n",
       " \n",
       " Data:\n",
       " +--------------+-----------------+-------+\n",
       " | target_label | predicted_label | count |\n",
       " +--------------+-----------------+-------+\n",
       " |      0       |        1        |  515  |\n",
       " |      1       |        1        |  2079 |\n",
       " |      1       |        0        |  485  |\n",
       " |      0       |        0        |  1969 |\n",
       " +--------------+-----------------+-------+\n",
       " [4 rows x 3 columns]}"
      ]
     },
     "execution_count": 33,
     "metadata": {},
     "output_type": "execute_result"
    }
   ],
   "source": [
    "cls = gl.classifier.boosted_trees_classifier.create(train_subset, target=\"sentiment\", features=[\"vectors\"])\n",
    "result4 = cls.evaluate(test_subset)\n",
    "result4"
   ]
  },
  {
   "cell_type": "code",
   "execution_count": 21,
   "metadata": {
    "collapsed": false
   },
   "outputs": [
    {
     "name": "stdout",
     "output_type": "stream",
     "text": [
      "PROGRESS: Creating a validation set from 5 percent of training data. This may take a while.\n",
      "          You can set ``validation_set=None`` to disable validation tracking.\n",
      "\n",
      "PROGRESS: The following methods are available for this type of problem.\n",
      "PROGRESS: LogisticClassifier, SVMClassifier\n",
      "PROGRESS: The returned model will be chosen according to validation accuracy.\n",
      "PROGRESS: Logistic regression:\n",
      "PROGRESS: --------------------------------------------------------\n",
      "PROGRESS: Number of examples          : 23750\n",
      "PROGRESS: Number of classes           : 2\n",
      "PROGRESS: Number of feature columns   : 1\n",
      "PROGRESS: Number of unpacked features : 300\n",
      "PROGRESS: Number of coefficients    : 301\n",
      "PROGRESS: Starting Newton Method\n",
      "PROGRESS: --------------------------------------------------------\n",
      "PROGRESS: +-----------+----------+--------------+-------------------+---------------------+\n",
      "PROGRESS: | Iteration | Passes   | Elapsed Time | Training-accuracy | Validation-accuracy |\n",
      "PROGRESS: +-----------+----------+--------------+-------------------+---------------------+\n",
      "PROGRESS: | 1         | 2        | 17.430129    | 0.865726          | 0.858400            |\n",
      "PROGRESS: | 2         | 3        | 25.905187    | 0.869768          | 0.860000            |\n",
      "PROGRESS: | 3         | 4        | 35.373932    | 0.870821          | 0.857600            |\n",
      "PROGRESS: | 4         | 5        | 46.900734    | 0.871411          | 0.859200            |\n",
      "PROGRESS: | 5         | 6        | 55.712516    | 0.871242          | 0.858400            |\n",
      "PROGRESS: | 6         | 7        | 63.344076    | 0.871242          | 0.858400            |\n",
      "PROGRESS: +-----------+----------+--------------+-------------------+---------------------+\n",
      "PROGRESS: SVM:\n",
      "PROGRESS: --------------------------------------------------------\n",
      "PROGRESS: Number of examples          : 23750\n",
      "PROGRESS: Number of classes           : 2\n",
      "PROGRESS: Number of feature columns   : 1\n",
      "PROGRESS: Number of unpacked features : 300\n",
      "PROGRESS: Number of coefficients    : 301\n",
      "PROGRESS: Starting L-BFGS\n",
      "PROGRESS: --------------------------------------------------------\n",
      "PROGRESS: +-----------+----------+-----------+--------------+-------------------+---------------------+\n",
      "PROGRESS: | Iteration | Passes   | Step size | Elapsed Time | Training-accuracy | Validation-accuracy |\n",
      "PROGRESS: +-----------+----------+-----------+--------------+-------------------+---------------------+\n",
      "PROGRESS: | 1         | 4        | 0.000021  | 1.230788     | 0.742484          | 0.745600            |\n",
      "PROGRESS: | 2         | 6        | 1.000000  | 2.250288     | 0.767032          | 0.772000            |\n",
      "PROGRESS: | 3         | 7        | 1.000000  | 2.864295     | 0.797726          | 0.810400            |\n",
      "PROGRESS: | 4         | 8        | 1.000000  | 3.479343     | 0.813011          | 0.821600            |\n",
      "PROGRESS: | 5         | 9        | 1.000000  | 4.080532     | 0.827663          | 0.839200            |\n",
      "PROGRESS: | 6         | 10       | 1.000000  | 4.684029     | 0.832463          | 0.837600            |\n",
      "PROGRESS: | 10        | 14       | 1.000000  | 7.058444     | 0.849937          | 0.846400            |\n",
      "PROGRESS: +-----------+----------+-----------+--------------+-------------------+---------------------+\n",
      "PROGRESS: Model selection based on validation accuracy:\n",
      "PROGRESS: ---------------------------------------------\n",
      "PROGRESS: LogisticClassifier              : 0.8584\n",
      "PROGRESS: SVMClassifier                   : 0.8464\n",
      "PROGRESS: ---------------------------------------------\n",
      "PROGRESS: Selecting LogisticClassifier based on validation set performance.\n"
     ]
    }
   ],
   "source": [
    "cls = gl.classifier.create(train_data, target='sentiment', features=['vectors'])"
   ]
  },
  {
   "cell_type": "code",
   "execution_count": 22,
   "metadata": {
    "collapsed": false,
    "scrolled": true
   },
   "outputs": [
    {
     "name": "stdout",
     "output_type": "stream",
     "text": [
      "PROGRESS: Finished parsing file /Users/marvinbertin/graphlab_data/Bags-of-Popcorn/LabeledData/testData.tsv\n",
      "PROGRESS: Parsing completed. Parsed 100 lines in 0.521591 secs.\n",
      "PROGRESS: Finished parsing file /Users/marvinbertin/graphlab_data/Bags-of-Popcorn/LabeledData/testData.tsv\n",
      "PROGRESS: Parsing completed. Parsed 25000 lines in 0.852852 secs.\n"
     ]
    }
   ],
   "source": [
    "#creating the test dataset\n",
    "testdata_path = \"/Users/marvinbertin/graphlab_data/Bags-of-Popcorn/LabeledData/testData.tsv\"\n",
    "test_data = gl.SFrame.read_csv(testdata_path,header=True, delimiter='\\t',quote_char='\"',\n",
    "                               column_type_hints = {'id':str, 'review':str } )"
   ]
  },
  {
   "cell_type": "code",
   "execution_count": 23,
   "metadata": {
    "collapsed": false
   },
   "outputs": [
    {
     "data": {
      "text/plain": [
       "dtype: array\n",
       "Rows: 1\n",
       "[array('d', [-0.03128037229180336, -0.051567815244197845, 0.03276579827070236, 0.003264856757596135, 0.002818173263221979, 0.02964898757636547, 0.005326887127012014, 0.014321301132440567, -0.05812147632241249, -0.0457916297018528, 0.03189953789114952, 0.059900715947151184, 0.02898985520005226, -0.02272074483335018, -0.030947143211960793, 0.005725131835788488, 0.0141909159719944, -0.06646397709846497, 0.0056731486693024635, 0.021826529875397682, -0.007459764368832111, 0.006760365329682827, 0.010986651293933392, 0.023761263117194176, 0.10277367383241653, -0.004730912856757641, 0.06891278922557831, -0.024212660267949104, 0.015612373128533363, -0.018157178536057472, -0.07257542759180069, -0.012022624723613262, 0.04104430601000786, -0.09585385024547577, 0.017209835350513458, -0.03303062170743942, -0.046203937381505966, 0.0028699974063783884, -0.038716431707143784, 0.04082956165075302, -0.01897786371409893, -0.000754414068069309, 0.03310908004641533, 0.010073383338749409, 0.0220586359500885, -0.04526219889521599, -0.028357909992337227, 0.008912315592169762, 0.004183583427220583, -0.0019647092558443546, 0.0021751762833446264, -0.02062883973121643, -0.06760865449905396, -0.031713541597127914, -0.021913375705480576, 0.06973689049482346, 0.0025622888933867216, 0.008459959179162979, 0.002698225434869528, -0.0021586173679679632, 0.009796018712222576, 0.028190508484840393, 0.03704386577010155, -0.02254342846572399, 0.02673916704952717, -0.0036195009015500546, -0.0016989181749522686, 0.03461174666881561, -0.020251382142305374, -0.0006630489369854331, -0.021707599982619286, -0.0016885228687897325, 0.04727957025170326, 0.029395531862974167, -0.035038240253925323, -0.005458428058773279, 0.006114313378930092, 0.0019262483110651374, 0.007778238970786333, -0.018968524411320686, 0.03597642108798027, 0.004777015186846256, 0.005346802994608879, -0.002206153003498912, 0.011251397430896759, -0.01745593547821045, -0.009773939847946167, 0.019266439601778984, 0.0016654899809509516, 0.015356432646512985, 0.031159238889813423, -0.02954217791557312, 0.011621139943599701, 0.025383928790688515, -0.027650363743305206, 0.029925627633929253, -0.013912814669311047, 0.030495643615722656, -0.009076828137040138, -0.06062033027410507, -0.02365419827401638, 0.023181455209851265, 0.03615640848875046, 0.004408403765410185, 0.03384821116924286, 0.025038914754986763, 0.04104464501142502, 0.002690690103918314, 0.05632026866078377, 0.017840540036559105, -0.018843205645680428, -0.05857780575752258, 0.005948234815150499, 0.04430074989795685, 0.01878441497683525, 0.07648390531539917, -0.03644028678536415, 0.021199125796556473, 0.005781727377325296, -0.0032610646449029446, -0.004867056850343943, -0.008246414363384247, 0.015147058293223381, 0.013250712305307388, 0.0027234728913754225, 0.0347607396543026, 0.02669978328049183, 0.0006832003709860146, -0.0025134312454611063, -0.00872854981571436, 0.03853185102343559, 0.002358668949455023, 0.008263190276920795, 0.010044224560260773, 0.0012037991546094418, 0.026191245764493942, 0.02778530865907669, 0.029163384810090065, -0.08124580979347229, -0.07334090024232864, -0.05219249799847603, -0.0009713044273667037, -0.020154928788542747, -0.007127151358872652, -0.01575603522360325, 0.007278235629200935, -0.0006326676229946315, 0.026848960667848587, -0.041215017437934875, -0.027182118967175484, -0.002648253459483385, -0.002826957032084465, 0.039947930723428726, -0.017464978620409966, -0.00507771223783493, 0.043685272336006165, 0.006860306952148676, -0.014703750610351562, -0.04913858696818352, 0.013132854364812374, -0.024429665878415108, 0.012156042270362377, 0.023074718192219734, -0.028743205592036247, -0.006418308243155479, 0.03651267662644386, -0.0016338663408532739, 0.017280083149671555, 0.010299566201865673, -0.049554962664842606, -0.0034323744475841522, -0.020628586411476135, 0.0008343816152773798, 0.04213188216090202, -0.04003379866480827, -0.01966950297355652, 0.06111782416701317, 0.008733894675970078, 0.027886247262358665, 0.00017493104678578675, 0.01928936131298542, 0.02337992750108242, 0.013154557906091213, 0.051668886095285416, 0.013826675713062286, 0.05829412862658501, -0.021284857764840126, 0.04283983260393143, -0.02121381089091301, -0.04794204980134964, 0.01828324981033802, 0.03692147880792618, -0.04896595701575279, -0.022044403478503227, 0.003901873016729951, 0.013005077838897705, -0.029227159917354584, -0.03811294212937355, 0.03935543820261955, -0.05301589146256447, -0.027493391185998917, -0.03585546836256981, -0.05954602733254433, -0.026797281578183174, -0.032652873545885086, 0.03220755606889725, -0.0115294074639678, -0.0009878850542008877, 0.0592014379799366, -0.01579117774963379, 0.010019172914326191, -0.01894483156502247, 0.014588789083063602, -0.045247115194797516, 0.009422405622899532, 0.010494283400475979, 0.04225913807749748, -0.005794978700578213, -0.06609956920146942, 0.010545918717980385, -0.06460002809762955, 0.009043804369866848, 0.019078701734542847, -0.05754649639129639, 0.00882906373590231, -0.015497323125600815, -0.0123610720038414, 0.023786503821611404, 0.06967410445213318, -0.02074604667723179, -0.014819975011050701, -0.01042992901057005, 0.025112465023994446, 0.016531730070710182, 0.013380049727857113, -0.02917802520096302, 0.00940072163939476, -0.03882898762822151, 0.00464116083458066, -0.02981427311897278, -0.00033971990342251956, -0.02698134072124958, -0.01902426965534687, 0.03301239013671875, -0.03406878933310509, 0.01082589104771614, -0.03355487436056137, -0.014288829639554024, 0.020422445610165596, -0.040980953723192215, -0.02229231782257557, -0.04184290021657944, 0.05224309116601944, 0.004641694948077202, -0.09415044635534286, 0.004648012574762106, -0.03567369282245636, -0.005106676369905472, 0.0027576445136219263, 0.009455058723688126, 0.050984643399715424, 0.014962716959416866, 0.034995827823877335, 0.00977644044905901, 0.016266582533717155, 0.012555127963423729, -0.04682750627398491, -0.04552547261118889, 0.011894640512764454, -0.001746135065332055, 0.04746774956583977, 0.018477344885468483, 0.007817011326551437, 0.04190206527709961, -0.016145620495080948, -0.08519703149795532, -0.026099171489477158, -0.0288833100348711, 0.0023484546691179276, -0.05319318547844887, 0.016512345522642136, 0.002665342763066292, -0.029748355969786644, 0.023679222911596298, -0.034447409212589264, -0.03880606219172478, 0.02060636878013611, -0.07216046005487442, -0.056691646575927734, 0.013596251606941223, -0.012578628957271576, -0.06351112574338913, 0.060991156846284866, 0.03005375899374485, 0.0416526272892952, 0.023124614730477333, 0.017733216285705566, 0.017985085025429726, 0.07251382619142532, 0.012423058971762657])]"
      ]
     },
     "execution_count": 23,
     "metadata": {},
     "output_type": "execute_result"
    }
   ],
   "source": [
    "dt = DeepTextAnalyzer(model)\n",
    "test_data['vectors'] = test_data['review'].apply(lambda p: dt.txt2avg_vector(p, is_html=True))\n",
    "test_data['vectors'].head(1)"
   ]
  },
  {
   "cell_type": "code",
   "execution_count": 24,
   "metadata": {
    "collapsed": false
   },
   "outputs": [
    {
     "data": {
      "text/html": [
       "<div style=\"max-height:1000px;max-width:1500px;overflow:auto;\"><table frame=\"box\" rules=\"cols\">\n",
       "    <tr>\n",
       "        <th style=\"padding-left: 1em; padding-right: 1em; text-align: center\">id</th>\n",
       "        <th style=\"padding-left: 1em; padding-right: 1em; text-align: center\">review</th>\n",
       "        <th style=\"padding-left: 1em; padding-right: 1em; text-align: center\">vectors</th>\n",
       "        <th style=\"padding-left: 1em; padding-right: 1em; text-align: center\">sentiment</th>\n",
       "    </tr>\n",
       "    <tr>\n",
       "        <td style=\"padding-left: 1em; padding-right: 1em; text-align: center; vertical-align: top\">12311_10</td>\n",
       "        <td style=\"padding-left: 1em; padding-right: 1em; text-align: center; vertical-align: top\">Naturally in a film who's<br>main themes are of ...</td>\n",
       "        <td style=\"padding-left: 1em; padding-right: 1em; text-align: center; vertical-align: top\">[-0.0312803722918,<br>-0.0515678152442, ...</td>\n",
       "        <td style=\"padding-left: 1em; padding-right: 1em; text-align: center; vertical-align: top\">1</td>\n",
       "    </tr>\n",
       "    <tr>\n",
       "        <td style=\"padding-left: 1em; padding-right: 1em; text-align: center; vertical-align: top\">8348_2</td>\n",
       "        <td style=\"padding-left: 1em; padding-right: 1em; text-align: center; vertical-align: top\">This movie is a disaster<br>within a disaster film. ...</td>\n",
       "        <td style=\"padding-left: 1em; padding-right: 1em; text-align: center; vertical-align: top\">[-0.0244557447731,<br>0.00596945919096, ...</td>\n",
       "        <td style=\"padding-left: 1em; padding-right: 1em; text-align: center; vertical-align: top\">0</td>\n",
       "    </tr>\n",
       "    <tr>\n",
       "        <td style=\"padding-left: 1em; padding-right: 1em; text-align: center; vertical-align: top\">5828_4</td>\n",
       "        <td style=\"padding-left: 1em; padding-right: 1em; text-align: center; vertical-align: top\">All in all, this is a<br>movie for kids. We sa ...</td>\n",
       "        <td style=\"padding-left: 1em; padding-right: 1em; text-align: center; vertical-align: top\">[-0.0136676458642,<br>0.00491039827466, ...</td>\n",
       "        <td style=\"padding-left: 1em; padding-right: 1em; text-align: center; vertical-align: top\">0</td>\n",
       "    </tr>\n",
       "    <tr>\n",
       "        <td style=\"padding-left: 1em; padding-right: 1em; text-align: center; vertical-align: top\">7186_2</td>\n",
       "        <td style=\"padding-left: 1em; padding-right: 1em; text-align: center; vertical-align: top\">Afraid of the Dark left<br>me with the impression ...</td>\n",
       "        <td style=\"padding-left: 1em; padding-right: 1em; text-align: center; vertical-align: top\">[-0.007137932349,<br>-0.0341661460698, ...</td>\n",
       "        <td style=\"padding-left: 1em; padding-right: 1em; text-align: center; vertical-align: top\">0</td>\n",
       "    </tr>\n",
       "    <tr>\n",
       "        <td style=\"padding-left: 1em; padding-right: 1em; text-align: center; vertical-align: top\">12128_7</td>\n",
       "        <td style=\"padding-left: 1em; padding-right: 1em; text-align: center; vertical-align: top\">A very accurate depiction<br>of small time mob life ...</td>\n",
       "        <td style=\"padding-left: 1em; padding-right: 1em; text-align: center; vertical-align: top\">[-0.0194276254624,<br>-0.0178465656936, ...</td>\n",
       "        <td style=\"padding-left: 1em; padding-right: 1em; text-align: center; vertical-align: top\">1</td>\n",
       "    </tr>\n",
       "    <tr>\n",
       "        <td style=\"padding-left: 1em; padding-right: 1em; text-align: center; vertical-align: top\">2913_8</td>\n",
       "        <td style=\"padding-left: 1em; padding-right: 1em; text-align: center; vertical-align: top\">...as valuable as King<br>Tut's tomb! (OK, maybe ...</td>\n",
       "        <td style=\"padding-left: 1em; padding-right: 1em; text-align: center; vertical-align: top\">[-0.0231488514692,<br>-0.0022550271824, ...</td>\n",
       "        <td style=\"padding-left: 1em; padding-right: 1em; text-align: center; vertical-align: top\">1</td>\n",
       "    </tr>\n",
       "    <tr>\n",
       "        <td style=\"padding-left: 1em; padding-right: 1em; text-align: center; vertical-align: top\">4396_1</td>\n",
       "        <td style=\"padding-left: 1em; padding-right: 1em; text-align: center; vertical-align: top\">This has to be one of the<br>biggest misfires ...</td>\n",
       "        <td style=\"padding-left: 1em; padding-right: 1em; text-align: center; vertical-align: top\">[-0.0100834686309,<br>0.0197394713759, ...</td>\n",
       "        <td style=\"padding-left: 1em; padding-right: 1em; text-align: center; vertical-align: top\">0</td>\n",
       "    </tr>\n",
       "    <tr>\n",
       "        <td style=\"padding-left: 1em; padding-right: 1em; text-align: center; vertical-align: top\">395_2</td>\n",
       "        <td style=\"padding-left: 1em; padding-right: 1em; text-align: center; vertical-align: top\">This is one of those<br>movies I watched, and ...</td>\n",
       "        <td style=\"padding-left: 1em; padding-right: 1em; text-align: center; vertical-align: top\">[-0.0286349263042,<br>0.0193572770804, ...</td>\n",
       "        <td style=\"padding-left: 1em; padding-right: 1em; text-align: center; vertical-align: top\">1</td>\n",
       "    </tr>\n",
       "    <tr>\n",
       "        <td style=\"padding-left: 1em; padding-right: 1em; text-align: center; vertical-align: top\">10616_1</td>\n",
       "        <td style=\"padding-left: 1em; padding-right: 1em; text-align: center; vertical-align: top\">The worst movie i've seen<br>in years (and i've se ...</td>\n",
       "        <td style=\"padding-left: 1em; padding-right: 1em; text-align: center; vertical-align: top\">[0.0473213978112,<br>0.0812859684229, ...</td>\n",
       "        <td style=\"padding-left: 1em; padding-right: 1em; text-align: center; vertical-align: top\">0</td>\n",
       "    </tr>\n",
       "    <tr>\n",
       "        <td style=\"padding-left: 1em; padding-right: 1em; text-align: center; vertical-align: top\">9074_9</td>\n",
       "        <td style=\"padding-left: 1em; padding-right: 1em; text-align: center; vertical-align: top\">Five medical students<br>(Kevin Bacon, David ...</td>\n",
       "        <td style=\"padding-left: 1em; padding-right: 1em; text-align: center; vertical-align: top\">[-0.0326251126826,<br>-0.017272606492, ...</td>\n",
       "        <td style=\"padding-left: 1em; padding-right: 1em; text-align: center; vertical-align: top\">0</td>\n",
       "    </tr>\n",
       "</table>\n",
       "[10 rows x 4 columns]<br/>\n",
       "</div>"
      ],
      "text/plain": [
       "Columns:\n",
       "\tid\tstr\n",
       "\treview\tstr\n",
       "\tvectors\tarray\n",
       "\tsentiment\tint\n",
       "\n",
       "Rows: 10\n",
       "\n",
       "Data:\n",
       "+----------+-------------------------------+-------------------------------+-----------+\n",
       "|    id    |             review            |            vectors            | sentiment |\n",
       "+----------+-------------------------------+-------------------------------+-----------+\n",
       "| 12311_10 | Naturally in a film who's ... | [-0.0312803722918, -0.0515... |     1     |\n",
       "|  8348_2  | This movie is a disaster w... | [-0.0244557447731, 0.00596... |     0     |\n",
       "|  5828_4  | All in all, this is a movi... | [-0.0136676458642, 0.00491... |     0     |\n",
       "|  7186_2  | Afraid of the Dark left me... | [-0.007137932349, -0.03416... |     0     |\n",
       "| 12128_7  | A very accurate depiction ... | [-0.0194276254624, -0.0178... |     1     |\n",
       "|  2913_8  | ...as valuable as King Tut... | [-0.0231488514692, -0.0022... |     1     |\n",
       "|  4396_1  | This has to be one of the ... | [-0.0100834686309, 0.01973... |     0     |\n",
       "|  395_2   | This is one of those movie... | [-0.0286349263042, 0.01935... |     1     |\n",
       "| 10616_1  | The worst movie i've seen ... | [0.0473213978112, 0.081285... |     0     |\n",
       "|  9074_9  | Five medical students (Kev... | [-0.0326251126826, -0.0172... |     0     |\n",
       "+----------+-------------------------------+-------------------------------+-----------+\n",
       "[10 rows x 4 columns]"
      ]
     },
     "execution_count": 24,
     "metadata": {},
     "output_type": "execute_result"
    }
   ],
   "source": [
    "test_data['sentiment'] = cls.classify(test_data)['class'].astype(int)\n",
    "test_data.head()"
   ]
  },
  {
   "cell_type": "code",
   "execution_count": 25,
   "metadata": {
    "collapsed": true
   },
   "outputs": [],
   "source": [
    "#saving the prediction to a CSV for submission\n",
    "test_data[['id', 'sentiment']].save(\"/Users/marvinbertin/Github/Graphlab/DeepTextpred3.csv\", format=\"csv\")\n",
    "# pred1: score 0.865\n",
    "# pred2: score 0.859\n",
    "# pred3: score 0.864"
   ]
  },
  {
   "cell_type": "code",
   "execution_count": null,
   "metadata": {
    "collapsed": true
   },
   "outputs": [],
   "source": [
    "#saving the prediction to a CSV for submission\n",
    "test_data[['id', 'sentiment']].save(\"/Users/marvinbertin/Github/Graphlab/DeepTextpred3.csv\", format=\"csv\")\n",
    "# pred1: score 0.865\n",
    "# pred2: score 0.859\n",
    "# pred3: score 0.864"
   ]
  }
 ],
 "metadata": {
  "kernelspec": {
   "display_name": "Python 2",
   "language": "python",
   "name": "python2"
  },
  "language_info": {
   "codemirror_mode": {
    "name": "ipython",
    "version": 2
   },
   "file_extension": ".py",
   "mimetype": "text/x-python",
   "name": "python",
   "nbconvert_exporter": "python",
   "pygments_lexer": "ipython2",
   "version": "2.7.11"
  }
 },
 "nbformat": 4,
 "nbformat_minor": 0
}
